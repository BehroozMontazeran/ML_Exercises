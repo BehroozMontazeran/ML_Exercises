{
 "cells": [
  {
   "cell_type": "code",
   "execution_count": 396,
   "id": "16c3d31b-da20-4076-bd85-37bab83b684b",
   "metadata": {},
   "outputs": [],
   "source": [
    "import numpy as np \n",
    "from numpy.linalg import lstsq\n",
    "import sklearn\n",
    "import matplotlib.pyplot as plt"
   ]
  },
  {
   "attachments": {},
   "cell_type": "markdown",
   "id": "b55efeb4-cff0-477c-95ac-efc9e023c6a9",
   "metadata": {},
   "source": [
    "### 3.1 Implement Orthogonal Matching Pursuit"
   ]
  },
  {
   "cell_type": "code",
   "execution_count": 443,
   "id": "87721f02-eecb-4ad8-8281-967b74a23c69",
   "metadata": {},
   "outputs": [],
   "source": [
    "\n",
    "def omp_regression(X,y,T): \n",
    "    #initzialize Dimensions of Matrix X and initizalize A,B and r \n",
    "    N,D = X.shape\n",
    "    A = []\n",
    "    B = np.arange(D).tolist()\n",
    "    r = y\n",
    "    #Get the matrix with the solutions\n",
    "    #beta_t = np.zeros((D,T))\n",
    "    beta_solution = np.zeros((D,T))\n",
    "    \n",
    "    #iterate through every T     \n",
    "    \n",
    "    for t in range(T): \n",
    "        #print(\"------------Iteration\",t)\n",
    "        #calculate the correlations and the argmax of the indices \n",
    "        j = B[np.argmax(np.abs(np.dot(np.transpose(X[:, B]),r)))]\n",
    "        #add index j and remove\n",
    "        #print(\"argmaxindex =\",j)\n",
    "        #print(\"B_previous =\",B)\n",
    "        A.append(j)\n",
    "        B.remove(j)\n",
    "    \n",
    "        #print(\"B=\",B)\n",
    "        #print(\"A=\",A)\n",
    "        #calculate the active matrix from indices\n",
    "        X_act = X[:, A]\n",
    "        #solve least squares\n",
    "        beta = np.linalg.lstsq(X_act, y,rcond=None)[0]\n",
    "        #print(\"beta=\", beta)\n",
    "        beta_solution[A,t] = beta\n",
    "        #beta_t[A,t] = beta\n",
    "        #beta_t.append(beta)\n",
    "        \n",
    "        #update solution y\n",
    "        r = y - X_act @ beta \n",
    "         \n",
    "    return beta_solution\n",
    "\n",
    "\n"
   ]
  },
  {
   "attachments": {},
   "cell_type": "markdown",
   "id": "18a06f82",
   "metadata": {},
   "source": [
    "<div style=\"color: green; font-weight:\n",
    "bold\">\n",
    "The function is virtually identical to the sample solution.\n",
    "</div>"
   ]
  },
  {
   "cell_type": "code",
   "execution_count": 475,
   "id": "e1a779ed-4bcb-4ea8-a6d6-23e0406f4659",
   "metadata": {},
   "outputs": [
    {
     "name": "stdout",
     "output_type": "stream",
     "text": [
      "[[0.00000000e+00 9.72950711e-15]\n",
      " [5.00000000e+00 5.00000000e+00]]\n",
      "[9.72950711e-15 5.00000000e+00]\n",
      "[10. 20. 30. 40.]\n"
     ]
    }
   ],
   "source": [
    "X = np.array([[1, 2], [3, 4], [5, 6], [7, 8]])\n",
    "y = np.array([10, 20, 30, 40])\n",
    "T = 2\n",
    "\n",
    "beta_sol = omp_regression(X,y,T)\n",
    "print(beta_sol)\n",
    "b_pred = beta_sol[:,T-1]\n",
    "print(y_pred)\n",
    "\n",
    "print(X@b_pred)"
   ]
  },
  {
   "attachments": {},
   "cell_type": "markdown",
   "id": "2bae1ad6",
   "metadata": {},
   "source": [
    "<div style=\"color: green; font-weight:\n",
    "bold\">\n",
    "The variable 'y_pred' is undefined, insinuating a bad usage of the notebook.\n",
    "</div>"
   ]
  },
  {
   "attachments": {},
   "cell_type": "markdown",
   "id": "4585b812-6b38-4454-acb7-5116b9d21323",
   "metadata": {},
   "source": [
    "### 3.2 Classification with sparse LDA "
   ]
  },
  {
   "cell_type": "code",
   "execution_count": 135,
   "id": "5ae0daea-5729-455a-955b-2243c1ed9eae",
   "metadata": {},
   "outputs": [
    {
     "name": "stdout",
     "output_type": "stream",
     "text": [
      "dict_keys(['data', 'target', 'frame', 'feature_names', 'target_names', 'images', 'DESCR'])\n"
     ]
    }
   ],
   "source": [
    "from sklearn.datasets import load_digits #import digits data set\n",
    "\n",
    "digits = load_digits() #rename data set\n",
    "print(digits.keys())"
   ]
  },
  {
   "cell_type": "code",
   "execution_count": 136,
   "id": "65bf074c-1c08-4d51-b64a-d7b4e04b70f6",
   "metadata": {},
   "outputs": [],
   "source": [
    "data = digits[\"data\"]\n",
    "images = digits[\"images\"]\n",
    "target = digits[\"target\"]\n",
    "target_names = digits[\"target_names\"]"
   ]
  },
  {
   "cell_type": "code",
   "execution_count": 137,
   "id": "d3a2ce00-1743-48b9-b42e-3bd6203630d7",
   "metadata": {},
   "outputs": [
    {
     "data": {
      "text/plain": [
       "(1797, 64)"
      ]
     },
     "execution_count": 137,
     "metadata": {},
     "output_type": "execute_result"
    }
   ],
   "source": [
    "#size of the images \n",
    "np.shape(digits.data) "
   ]
  },
  {
   "cell_type": "code",
   "execution_count": 138,
   "id": "9202df6f-2ed0-4267-a305-fc9f7a70f8a2",
   "metadata": {},
   "outputs": [
    {
     "data": {
      "image/png": "[encoded data removed]",
      "text/plain": [
       "<Figure size 640x480 with 1 Axes>"
      ]
     },
     "metadata": {},
     "output_type": "display_data"
    }
   ],
   "source": [
    "img = images[183]\n",
    "plt.figure() \n",
    "plt.gray() \n",
    "plt.imshow(img, interpolation = \"nearest\")\n",
    "plt.show()"
   ]
  },
  {
   "attachments": {},
   "cell_type": "markdown",
   "id": "2e8fdd1c",
   "metadata": {},
   "source": [
    "<div style=\"color: green; font-weight:\n",
    "bold\">\n",
    "Not sure why you would display an 8 when we're only working with 3s and 9s.\n",
    "</div>"
   ]
  },
  {
   "cell_type": "code",
   "execution_count": 139,
   "id": "18fc95e8-87d4-4059-89e8-cb04c3d9579c",
   "metadata": {},
   "outputs": [],
   "source": [
    "#Use a logical mask to filter data\n",
    "mask = np.logical_or(target == 3, target == 9)\n",
    "images_filtered = images[mask]\n",
    "data_filtered = data[mask]\n",
    "target_filtered = target[mask]"
   ]
  },
  {
   "cell_type": "code",
   "execution_count": 140,
   "id": "41c04277-2b50-4f4e-9d43-1236205fe072",
   "metadata": {},
   "outputs": [],
   "source": [
    "#dividing sets into test and training sets\n",
    "from sklearn import model_selection\n",
    "\n",
    "X_all = data_filtered\n",
    "Y_all = target_filtered\n",
    "#Split the filtered data sets into training and test sets\n",
    "X_train,X_test,Y_train, Y_test = model_selection.train_test_split(X_all,Y_all,test_size=0.4,random_state=0)"
   ]
  },
  {
   "cell_type": "code",
   "execution_count": 141,
   "id": "309673b4-97b4-44af-8092-19ade2caa59a",
   "metadata": {},
   "outputs": [
    {
     "name": "stdout",
     "output_type": "stream",
     "text": [
      "1.4863013698630136 1.4863013698630136\n",
      "(217, 64)\n"
     ]
    }
   ],
   "source": [
    "#Look at the ratio of the sets\n",
    "x_ratio = np.shape(X_train)[0]/np.shape(X_test)[0]\n",
    "y_ratio = np.shape(Y_train)[0]/np.shape(Y_test)[0]\n",
    "\n",
    "print(x_ratio,y_ratio)\n",
    "print(np.shape(X_train))"
   ]
  },
  {
   "attachments": {},
   "cell_type": "markdown",
   "id": "e079a9ce",
   "metadata": {},
   "source": [
    "<div style=\"color: green; font-weight:\n",
    "bold\">\n",
    "This is something you print out for testing and delete before submission.\n",
    "</div>"
   ]
  },
  {
   "cell_type": "code",
   "execution_count": 155,
   "id": "1ec92c29-9217-46a7-8a0b-3fc12a40a4c2",
   "metadata": {},
   "outputs": [],
   "source": [
    "#Transform the Y_train and Y_test into binary (-1,1) arrays\n",
    "for i in range(Y_train.shape[0]): \n",
    "    if Y_train[i] == 3: \n",
    "        Y_train[i] = 1\n",
    "    elif Y_train[i] == 9: \n",
    "        Y_train[i] = -1\n",
    "\n",
    "for i in range(Y_test.shape[0]): \n",
    "    if Y_test[i] == 3: \n",
    "        Y_test[i] = 1\n",
    "    elif Y_test[i] == 9: \n",
    "        Y_test[i] = -1\n",
    "    "
   ]
  },
  {
   "attachments": {},
   "cell_type": "markdown",
   "id": "c8f0f479",
   "metadata": {},
   "source": [
    "<div style=\"color: green; font-weight:\n",
    "bold\">\n",
    "This can be vectorized, see sample solution (although speed is not really a concern here)\n",
    "</div>"
   ]
  },
  {
   "cell_type": "code",
   "execution_count": 237,
   "id": "cfe44bbe-7312-489c-ac95-1240220827e5",
   "metadata": {},
   "outputs": [
    {
     "name": "stdout",
     "output_type": "stream",
     "text": [
      "(146, 64)\n",
      "(146,)\n"
     ]
    }
   ],
   "source": [
    "print(X_test.shape)\n",
    "print(Y_test.shape)"
   ]
  },
  {
   "attachments": {},
   "cell_type": "markdown",
   "id": "418f0aa8",
   "metadata": {},
   "source": [
    "<div style=\"color: green; font-weight:\n",
    "bold\">\n",
    "See above\n",
    "</div>"
   ]
  },
  {
   "cell_type": "code",
   "execution_count": 479,
   "id": "5e20d361-4f7b-4f2a-aa8c-80f6fc0c5787",
   "metadata": {},
   "outputs": [
    {
     "name": "stdout",
     "output_type": "stream",
     "text": [
      "[ True  True  True  True  True  True False  True False  True  True False\n",
      "  True  True  True  True  True  True  True  True  True  True  True  True\n",
      "  True  True  True  True  True  True  True  True  True  True  True  True\n",
      "  True False  True  True  True  True  True  True  True  True False  True\n",
      "  True  True  True  True  True  True  True  True  True  True  True  True\n",
      "  True  True  True  True  True  True  True  True  True False  True  True\n",
      "  True  True  True  True  True  True  True  True  True  True  True  True\n",
      "  True False  True  True  True False  True  True  True  True  True False\n",
      "  True  True  True  True  True  True  True  True  True  True  True  True\n",
      "  True  True  True  True  True  True  True  True  True  True  True  True\n",
      "  True  True  True  True  True  True  True  True  True  True  True  True\n",
      "  True  True  True  True  True  True  True  True  True False  True  True\n",
      "  True  True] 0.9315068493150684\n"
     ]
    }
   ],
   "source": [
    "#predict with T on train set and then test on test set\n",
    "\n",
    "\n",
    "###########choose T (for example choose 3 as in ex1###########\n",
    "T = 3\n",
    "##############################\n",
    "\n",
    "sol = omp_regression(X_train,Y_train,T)\n",
    "y_pred = np.sign((X_test @ sol[:,T-1]).round(1))\n",
    "comp = np.equal(y_pred,Y_test)\n",
    "\n",
    "\n",
    "print(comp,np.mean(comp))"
   ]
  },
  {
   "attachments": {},
   "cell_type": "markdown",
   "id": "8d886757",
   "metadata": {},
   "source": [
    "<div style=\"color: green; font-weight:\n",
    "bold\">\n",
    "See above\n",
    "</div>"
   ]
  },
  {
   "attachments": {},
   "cell_type": "markdown",
   "id": "152aac03",
   "metadata": {},
   "source": [
    "<div style=\"color: green; font-weight:\n",
    "bold\">\n",
    "The only result you give is the value 0.931..., which is 1 - the error rate at iteration T=3, and even that is presented in a bad way. None of the questions were answered and no visualizations were provided.\n",
    "</div>"
   ]
  },
  {
   "attachments": {},
   "cell_type": "markdown",
   "id": "e85d26e8",
   "metadata": {},
   "source": []
  }
 ],
 "metadata": {
  "kernelspec": {
   "display_name": "Python 3 (ipykernel)",
   "language": "python",
   "name": "python3"
  },
  "language_info": {
   "codemirror_mode": {
    "name": "ipython",
    "version": 3
   },
   "file_extension": ".py",
   "mimetype": "text/x-python",
   "name": "python",
   "nbconvert_exporter": "python",
   "pygments_lexer": "ipython3",
   "version": "3.8.13"
  }
 },
 "nbformat": 4,
 "nbformat_minor": 5
}
