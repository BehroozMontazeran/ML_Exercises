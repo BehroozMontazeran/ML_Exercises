{
 "cells": [
  {
   "cell_type": "markdown",
   "metadata": {},
   "source": [
    "# CNNs"
   ]
  },
  {
   "cell_type": "markdown",
   "metadata": {},
   "source": [
    "<div style='color:green'>Note: we initially subimtted 4 Jupyter notebooks (one for each exercise), since we missed that the task specified to submit only one. This file is therefore the 4 notebooks concatenated into one (with nothing else being changed).</div>"
   ]
  },
  {
   "cell_type": "markdown",
   "metadata": {},
   "source": [
    "# Intro"
   ]
  },
  {
   "cell_type": "markdown",
   "metadata": {},
   "source": [
    "<div style='color:green'>Just copy-pasted and executed, nothing to do here.</div>"
   ]
  },
  {
   "cell_type": "markdown",
   "metadata": {},
   "source": [
    "## Imports"
   ]
  },
  {
   "cell_type": "code",
   "execution_count": 1,
   "metadata": {},
   "outputs": [],
   "source": [
    "import numpy as np\n",
    "import matplotlib.pyplot as plt\n",
    "\n",
    "import torch\n",
    "import torch.optim as optim\n",
    "from torch.utils.data import DataLoader\n",
    "\n",
    "import torchvision.datasets as datasets\n",
    "import torchvision.transforms as transforms\n",
    "\n",
    "from torch.nn.functional import conv2d, max_pool2d, cross_entropy\n",
    "\n",
    "plt.rc(\"figure\", dpi=100)"
   ]
  },
  {
   "cell_type": "markdown",
   "metadata": {},
   "source": [
    "## Input data"
   ]
  },
  {
   "cell_type": "code",
   "execution_count": 2,
   "metadata": {},
   "outputs": [
    {
     "name": "stdout",
     "output_type": "stream",
     "text": [
      "Downloading http://yann.lecun.com/exdb/mnist/train-images-idx3-ubyte.gz\n",
      "Downloading http://yann.lecun.com/exdb/mnist/train-images-idx3-ubyte.gz to ./MNIST/raw/train-images-idx3-ubyte.gz\n"
     ]
    },
    {
     "data": {
      "application/json": {
       "ascii": false,
       "bar_format": null,
       "colour": null,
       "elapsed": 0.009415149688720703,
       "initial": 0,
       "n": 0,
       "ncols": null,
       "nrows": 39,
       "postfix": null,
       "prefix": "",
       "rate": null,
       "total": 9912422,
       "unit": "it",
       "unit_divisor": 1000,
       "unit_scale": false
      },
      "application/vnd.jupyter.widget-view+json": {
       "model_id": "5afd700271d54ef88d0b459a32307dcd",
       "version_major": 2,
       "version_minor": 0
      },
      "text/plain": [
       "  0%|          | 0/9912422 [00:00<?, ?it/s]"
      ]
     },
     "metadata": {},
     "output_type": "display_data"
    },
    {
     "name": "stdout",
     "output_type": "stream",
     "text": [
      "Extracting ./MNIST/raw/train-images-idx3-ubyte.gz to ./MNIST/raw\n",
      "\n",
      "Downloading http://yann.lecun.com/exdb/mnist/train-labels-idx1-ubyte.gz\n",
      "Downloading http://yann.lecun.com/exdb/mnist/train-labels-idx1-ubyte.gz to ./MNIST/raw/train-labels-idx1-ubyte.gz\n"
     ]
    },
    {
     "data": {
      "application/json": {
       "ascii": false,
       "bar_format": null,
       "colour": null,
       "elapsed": 0.008841276168823242,
       "initial": 0,
       "n": 0,
       "ncols": null,
       "nrows": 39,
       "postfix": null,
       "prefix": "",
       "rate": null,
       "total": 28881,
       "unit": "it",
       "unit_divisor": 1000,
       "unit_scale": false
      },
      "application/vnd.jupyter.widget-view+json": {
       "model_id": "7e0106e0b9194cfc80ff4ba9b1e31475",
       "version_major": 2,
       "version_minor": 0
      },
      "text/plain": [
       "  0%|          | 0/28881 [00:00<?, ?it/s]"
      ]
     },
     "metadata": {},
     "output_type": "display_data"
    },
    {
     "name": "stdout",
     "output_type": "stream",
     "text": [
      "Extracting ./MNIST/raw/train-labels-idx1-ubyte.gz to ./MNIST/raw\n",
      "\n",
      "Downloading http://yann.lecun.com/exdb/mnist/t10k-images-idx3-ubyte.gz\n",
      "Downloading http://yann.lecun.com/exdb/mnist/t10k-images-idx3-ubyte.gz to ./MNIST/raw/t10k-images-idx3-ubyte.gz\n"
     ]
    },
    {
     "data": {
      "application/json": {
       "ascii": false,
       "bar_format": null,
       "colour": null,
       "elapsed": 0.004332065582275391,
       "initial": 0,
       "n": 0,
       "ncols": null,
       "nrows": 39,
       "postfix": null,
       "prefix": "",
       "rate": null,
       "total": 1648877,
       "unit": "it",
       "unit_divisor": 1000,
       "unit_scale": false
      },
      "application/vnd.jupyter.widget-view+json": {
       "model_id": "caf03d6b327a4244a3e900a6be6954a7",
       "version_major": 2,
       "version_minor": 0
      },
      "text/plain": [
       "  0%|          | 0/1648877 [00:00<?, ?it/s]"
      ]
     },
     "metadata": {},
     "output_type": "display_data"
    },
    {
     "name": "stdout",
     "output_type": "stream",
     "text": [
      "Extracting ./MNIST/raw/t10k-images-idx3-ubyte.gz to ./MNIST/raw\n",
      "\n",
      "Downloading http://yann.lecun.com/exdb/mnist/t10k-labels-idx1-ubyte.gz\n",
      "Downloading http://yann.lecun.com/exdb/mnist/t10k-labels-idx1-ubyte.gz to ./MNIST/raw/t10k-labels-idx1-ubyte.gz\n"
     ]
    },
    {
     "data": {
      "application/json": {
       "ascii": false,
       "bar_format": null,
       "colour": null,
       "elapsed": 0.0086822509765625,
       "initial": 0,
       "n": 0,
       "ncols": null,
       "nrows": 39,
       "postfix": null,
       "prefix": "",
       "rate": null,
       "total": 4542,
       "unit": "it",
       "unit_divisor": 1000,
       "unit_scale": false
      },
      "application/vnd.jupyter.widget-view+json": {
       "model_id": "a82460d9843c4e02a80174afe5d3322c",
       "version_major": 2,
       "version_minor": 0
      },
      "text/plain": [
       "  0%|          | 0/4542 [00:00<?, ?it/s]"
      ]
     },
     "metadata": {},
     "output_type": "display_data"
    },
    {
     "name": "stdout",
     "output_type": "stream",
     "text": [
      "Extracting ./MNIST/raw/t10k-labels-idx1-ubyte.gz to ./MNIST/raw\n",
      "\n"
     ]
    }
   ],
   "source": [
    "batch_size = 100\n",
    "\n",
    "# transform images into normalized tensors\n",
    "transform = transforms.Compose([\n",
    "    transforms.ToTensor(),\n",
    "    transforms.Normalize(mean=(0.5,), std=(0.5,))\n",
    "])\n",
    "\n",
    "train_dataset = datasets.MNIST(\n",
    "    \"./\",\n",
    "    download=True,\n",
    "    train=True,\n",
    "    transform=transform,\n",
    ")\n",
    "\n",
    "test_dataset = datasets.MNIST(\n",
    "    \"./\",\n",
    "    download=True,\n",
    "    train=False,\n",
    "    transform=transform,\n",
    ")\n",
    "\n",
    "train_dataloader = DataLoader(\n",
    "    dataset=train_dataset,\n",
    "    batch_size=batch_size,\n",
    "    shuffle=True,\n",
    "    num_workers=1,\n",
    "    pin_memory=True,\n",
    ")\n",
    "\n",
    "test_dataloader = DataLoader(\n",
    "    dataset=test_dataset,\n",
    "    batch_size=batch_size,\n",
    "    shuffle=False,\n",
    "    num_workers=1,\n",
    "    pin_memory=True,\n",
    ")"
   ]
  },
  {
   "cell_type": "markdown",
   "metadata": {},
   "source": [
    "## Utility functions"
   ]
  },
  {
   "cell_type": "code",
   "execution_count": 3,
   "metadata": {},
   "outputs": [],
   "source": [
    "def init_weights(shape):\n",
    "    # Kaiming He initialization (a good initialization is important)\n",
    "    # https://arxiv.org/abs/1502.01852\n",
    "    std = np.sqrt(2. / shape[0])\n",
    "    w = torch.randn(size=shape) * std\n",
    "    w.requires_grad = True\n",
    "    return w\n",
    "\n",
    "\n",
    "def rectify(x):\n",
    "    # Rectified Linear Unit (ReLU)\n",
    "    return torch.max(torch.zeros_like(x), x)\n",
    "\n",
    "\n",
    "class RMSprop(optim.Optimizer):\n",
    "    \"\"\"\n",
    "    This is a reduced version of the PyTorch internal RMSprop optimizer\n",
    "    It serves here as an example\n",
    "    \"\"\"\n",
    "    def __init__(self, params, lr=1e-3, alpha=0.5, eps=1e-8):\n",
    "        defaults = dict(lr=lr, alpha=alpha, eps=eps)\n",
    "        super(RMSprop, self).__init__(params, defaults)\n",
    "\n",
    "    def step(self):\n",
    "        for group in self.param_groups:\n",
    "            for p in group['params']:\n",
    "                grad = p.grad.data\n",
    "                state = self.state[p]\n",
    "\n",
    "                # state initialization\n",
    "                if len(state) == 0:\n",
    "                    state['square_avg'] = torch.zeros_like(p.data)\n",
    "\n",
    "                square_avg = state['square_avg']\n",
    "                alpha = group['alpha']\n",
    "\n",
    "                # update running averages\n",
    "                square_avg.mul_(alpha).addcmul_(grad, grad, value=1 - alpha)\n",
    "                avg = square_avg.sqrt().add_(group['eps'])\n",
    "\n",
    "                # gradient update\n",
    "                p.data.addcdiv_(grad, avg, value=-group['lr'])\n",
    "\n",
    "\n",
    "# define the neural network\n",
    "def model(x, w_h, w_h2, w_o):\n",
    "    h = rectify(x @ w_h)\n",
    "    h2 = rectify(h @ w_h2)\n",
    "    pre_softmax = h2 @ w_o\n",
    "    return pre_softmax"
   ]
  },
  {
   "cell_type": "markdown",
   "metadata": {},
   "source": [
    "## Running the network"
   ]
  },
  {
   "cell_type": "code",
   "execution_count": 4,
   "metadata": {},
   "outputs": [
    {
     "name": "stdout",
     "output_type": "stream",
     "text": [
      "Epoch: 0\n",
      "Mean Train Loss: 4.02e-01\n",
      "Mean Test Loss:  1.97e-01\n",
      "Epoch: 10\n",
      "Mean Train Loss: 1.58e-01\n",
      "Mean Test Loss:  3.87e-01\n",
      "Epoch: 20\n",
      "Mean Train Loss: 1.03e-01\n",
      "Mean Test Loss:  3.90e-01\n",
      "Epoch: 30\n",
      "Mean Train Loss: 7.46e-02\n",
      "Mean Test Loss:  5.31e-01\n",
      "Epoch: 40\n",
      "Mean Train Loss: 5.47e-02\n",
      "Mean Test Loss:  7.66e-01\n",
      "Epoch: 50\n",
      "Mean Train Loss: 3.70e-02\n",
      "Mean Test Loss:  6.73e-01\n",
      "Epoch: 60\n",
      "Mean Train Loss: 3.69e-02\n",
      "Mean Test Loss:  8.50e-01\n",
      "Epoch: 70\n",
      "Mean Train Loss: 3.30e-02\n",
      "Mean Test Loss:  8.17e-01\n",
      "Epoch: 80\n",
      "Mean Train Loss: 2.36e-02\n",
      "Mean Test Loss:  9.06e-01\n",
      "Epoch: 90\n",
      "Mean Train Loss: 8.92e-03\n",
      "Mean Test Loss:  9.74e-01\n",
      "Epoch: 100\n",
      "Mean Train Loss: 1.22e-02\n",
      "Mean Test Loss:  9.17e-01\n"
     ]
    },
    {
     "data": {
      "text/plain": [
       "<matplotlib.legend.Legend at 0x7f6dd9dc7d00>"
      ]
     },
     "execution_count": 4,
     "metadata": {},
     "output_type": "execute_result"
    },
    {
     "data": {
      "image/png": "[encoded data removed]",
      "text/plain": [
       "<Figure size 640x480 with 1 Axes>"
      ]
     },
     "metadata": {},
     "output_type": "display_data"
    }
   ],
   "source": [
    "# initialize weights\n",
    "\n",
    "# input shape is (B, 784)\n",
    "w_h = init_weights((784, 625))\n",
    "# hidden layer with 625 neurons\n",
    "w_h2 = init_weights((625, 625))\n",
    "# hidden layer with 625 neurons\n",
    "w_o = init_weights((625, 10))\n",
    "# output shape is (B, 10)\n",
    "\n",
    "optimizer = RMSprop(params=[w_h, w_h2, w_o])\n",
    "\n",
    "\n",
    "n_epochs = 100\n",
    "\n",
    "train_loss = []\n",
    "test_loss = []\n",
    "\n",
    "# put this into a training loop over 100 epochs\n",
    "for epoch in range(n_epochs + 1):\n",
    "    train_loss_this_epoch = []\n",
    "    for idx, batch in enumerate(train_dataloader):\n",
    "        x, y = batch\n",
    "\n",
    "        # our model requires flattened input\n",
    "        x = x.reshape(batch_size, 784)\n",
    "        # feed input through model\n",
    "        noise_py_x = model(x, w_h, w_h2, w_o)\n",
    "\n",
    "        # reset the gradient\n",
    "        optimizer.zero_grad()\n",
    "\n",
    "        # the cross-entropy loss function already contains the softmax\n",
    "        loss = cross_entropy(noise_py_x, y, reduction=\"mean\")\n",
    "\n",
    "        train_loss_this_epoch.append(float(loss))\n",
    "\n",
    "        # compute the gradient\n",
    "        loss.backward()\n",
    "        # update weights\n",
    "        optimizer.step()\n",
    "\n",
    "    train_loss.append(np.mean(train_loss_this_epoch))\n",
    "\n",
    "    # test periodically\n",
    "    if epoch % 10 == 0:\n",
    "        print(f\"Epoch: {epoch}\")\n",
    "        print(f\"Mean Train Loss: {train_loss[-1]:.2e}\")\n",
    "        test_loss_this_epoch = []\n",
    "\n",
    "        # no need to compute gradients for validation\n",
    "        with torch.no_grad():\n",
    "            for idx, batch in enumerate(test_dataloader):\n",
    "                x, y = batch\n",
    "                x = x.reshape(batch_size, 784)\n",
    "                noise_py_x = model(x, w_h, w_h2, w_o)\n",
    "\n",
    "                loss = cross_entropy(noise_py_x, y, reduction=\"mean\")\n",
    "                test_loss_this_epoch.append(float(loss))\n",
    "\n",
    "        test_loss.append(np.mean(test_loss_this_epoch))\n",
    "\n",
    "        print(f\"Mean Test Loss:  {test_loss[-1]:.2e}\")\n",
    "\n",
    "plt.plot(np.arange(n_epochs + 1), train_loss, label=\"Train\")\n",
    "plt.plot(np.arange(1, n_epochs + 2, 10), test_loss, label=\"Test\")\n",
    "plt.title(\"Train and Test Loss over Training\")\n",
    "plt.xlabel(\"Epoch\")\n",
    "plt.ylabel(\"Loss\")\n",
    "plt.legend()\n"
   ]
  },
  {
   "cell_type": "markdown",
   "metadata": {},
   "source": [
    "# Dropout"
   ]
  },
  {
   "cell_type": "markdown",
   "metadata": {},
   "source": [
    "<div style='color:green'>We use different functions and operations on the tensor compared to the author solution, but the effect should be exactly the same.</div>\n"
   ]
  },
  {
   "cell_type": "markdown",
   "metadata": {},
   "source": [
    "<div style='color:green'>The comment regarding the functionality of the dropout and the performance of the network is also essentially the same as the author's solution (albeit less detailed). Our network seems to, for a similar dropout value, overfit more in this case, but this is likely just due to the initial weights.</div>"
   ]
  },
  {
   "cell_type": "markdown",
   "metadata": {},
   "source": [
    "<div style='color:green'>In addition to the author's solution, we ran the network multiple times to compare the effect of the dropout parameter on the training and testing errors.</div>"
   ]
  },
  {
   "cell_type": "markdown",
   "metadata": {},
   "source": [
    "## Imports"
   ]
  },
  {
   "cell_type": "code",
   "execution_count": 1,
   "metadata": {},
   "outputs": [],
   "source": [
    "import numpy as np\n",
    "import matplotlib.pyplot as plt\n",
    "\n",
    "import torch\n",
    "import torch.optim as optim\n",
    "from torch.utils.data import DataLoader\n",
    "\n",
    "import torchvision.datasets as datasets\n",
    "import torchvision.transforms as transforms\n",
    "import torch.distributions.binomial as binomial\n",
    "\n",
    "from torch.nn.functional import conv2d, max_pool2d, cross_entropy\n",
    "\n",
    "plt.rc(\"figure\", dpi=100)"
   ]
  },
  {
   "cell_type": "markdown",
   "metadata": {},
   "source": [
    "## Input data"
   ]
  },
  {
   "cell_type": "code",
   "execution_count": 2,
   "metadata": {},
   "outputs": [],
   "source": [
    "batch_size = 100\n",
    "\n",
    "# transform images into normalized tensors\n",
    "transform = transforms.Compose([\n",
    "    transforms.ToTensor(),\n",
    "    transforms.Normalize(mean=(0.5,), std=(0.5,))\n",
    "])\n",
    "\n",
    "train_dataset = datasets.MNIST(\n",
    "    \"./\",\n",
    "    download=True,\n",
    "    train=True,\n",
    "    transform=transform,\n",
    ")\n",
    "\n",
    "test_dataset = datasets.MNIST(\n",
    "    \"./\",\n",
    "    download=True,\n",
    "    train=False,\n",
    "    transform=transform,\n",
    ")\n",
    "\n",
    "train_dataloader = DataLoader(\n",
    "    dataset=train_dataset,\n",
    "    batch_size=batch_size,\n",
    "    shuffle=True,\n",
    "    num_workers=1,\n",
    "    pin_memory=True,\n",
    ")\n",
    "\n",
    "test_dataloader = DataLoader(\n",
    "    dataset=test_dataset,\n",
    "    batch_size=batch_size,\n",
    "    shuffle=False,\n",
    "    num_workers=1,\n",
    "    pin_memory=True,\n",
    ")"
   ]
  },
  {
   "cell_type": "markdown",
   "metadata": {},
   "source": [
    "## Utility functions"
   ]
  },
  {
   "cell_type": "code",
   "execution_count": 3,
   "metadata": {},
   "outputs": [],
   "source": [
    "def init_weights(shape):\n",
    "    # Kaiming He initialization (a good initialization is important)\n",
    "    # https://arxiv.org/abs/1502.01852\n",
    "    std = np.sqrt(2. / shape[0])\n",
    "    w = torch.randn(size=shape) * std\n",
    "    w.requires_grad = True\n",
    "    return w\n",
    "\n",
    "\n",
    "def rectify(x):\n",
    "    # Rectified Linear Unit (ReLU)\n",
    "    return torch.max(torch.zeros_like(x), x)\n",
    "\n",
    "\n",
    "def dropout(X, p_drop):    \n",
    "    if not (0 < p_drop < 1):\n",
    "        return X\n",
    "\n",
    "    # the 1 is for broadcasting (100, 625) - (1, 625), same dropout across the batch\n",
    "    phi = binomial.Binomial(torch.ones(1, X.shape[1]), probs=1 - p_drop).sample()\n",
    "    \n",
    "    return phi * X / (1 - p_drop)\n",
    "\n",
    "\n",
    "class RMSprop(optim.Optimizer):\n",
    "    \"\"\"\n",
    "    This is a reduced version of the PyTorch internal RMSprop optimizer\n",
    "    It serves here as an example\n",
    "    \"\"\"\n",
    "    def __init__(self, params, lr=1e-3, alpha=0.5, eps=1e-8):\n",
    "        defaults = dict(lr=lr, alpha=alpha, eps=eps)\n",
    "        super(RMSprop, self).__init__(params, defaults)\n",
    "\n",
    "    def step(self):\n",
    "        for group in self.param_groups:\n",
    "            for p in group['params']:\n",
    "                grad = p.grad.data\n",
    "                state = self.state[p]\n",
    "\n",
    "                # state initialization\n",
    "                if len(state) == 0:\n",
    "                    state['square_avg'] = torch.zeros_like(p.data)\n",
    "\n",
    "                square_avg = state['square_avg']\n",
    "                alpha = group['alpha']\n",
    "\n",
    "                # update running averages\n",
    "                square_avg.mul_(alpha).addcmul_(grad, grad, value=1 - alpha)\n",
    "                avg = square_avg.sqrt().add_(group['eps'])\n",
    "\n",
    "                # gradient update\n",
    "                p.data.addcdiv_(grad, avg, value=-group['lr'])\n",
    "\n",
    "\n",
    "# define the neural network\n",
    "def dropout_model(x, w_h, w_h2, w_o, p_drop_input, p_drop_hidden):\n",
    "    h = rectify(dropout(x @ w_h, p_drop_input))\n",
    "    h2 = rectify(dropout(h @ w_h2, p_drop_hidden))\n",
    "    pre_softmax = h2 @ w_o\n",
    "    return pre_softmax"
   ]
  },
  {
   "cell_type": "markdown",
   "metadata": {},
   "source": [
    "## Running the network"
   ]
  },
  {
   "cell_type": "markdown",
   "metadata": {},
   "source": [
    "Note that the training losses are skewed by dropout (since we're multiplying non-dropped inputs)."
   ]
  },
  {
   "cell_type": "code",
   "execution_count": 4,
   "metadata": {},
   "outputs": [
    {
     "name": "stdout",
     "output_type": "stream",
     "text": [
      "Running model with dropout 0.1\n",
      "Epoch: 0\n",
      "Mean Train Loss: 4.77e-01\n",
      "Mean Test Loss:  1.80e-01\n",
      "Epoch: 10\n",
      "Mean Train Loss: 1.97e-01\n",
      "Mean Test Loss:  2.31e-01\n",
      "Epoch: 20\n",
      "Mean Train Loss: 1.60e-01\n",
      "Mean Test Loss:  2.89e-01\n",
      "Epoch: 30\n",
      "Mean Train Loss: 1.21e-01\n",
      "Mean Test Loss:  2.99e-01\n",
      "Epoch: 40\n",
      "Mean Train Loss: 8.85e-02\n",
      "Mean Test Loss:  5.66e-01\n",
      "Epoch: 50\n",
      "Mean Train Loss: 9.87e-02\n",
      "Mean Test Loss:  6.09e-01\n",
      "Epoch: 60\n",
      "Mean Train Loss: 7.20e-02\n",
      "Mean Test Loss:  6.28e-01\n",
      "Epoch: 70\n",
      "Mean Train Loss: 5.94e-02\n",
      "Mean Test Loss:  7.06e-01\n",
      "Epoch: 80\n",
      "Mean Train Loss: 7.40e-02\n",
      "Mean Test Loss:  8.19e-01\n",
      "Epoch: 90\n",
      "Mean Train Loss: 6.12e-02\n",
      "Mean Test Loss:  7.42e-01\n",
      "Epoch: 100\n",
      "Mean Train Loss: 5.55e-02\n",
      "Mean Test Loss:  8.66e-01\n",
      "\n",
      "Running model with dropout 0.25\n",
      "Epoch: 0\n",
      "Mean Train Loss: 6.89e-01\n",
      "Mean Test Loss:  2.65e-01\n",
      "Epoch: 10\n",
      "Mean Train Loss: 2.75e-01\n",
      "Mean Test Loss:  1.85e-01\n",
      "Epoch: 20\n",
      "Mean Train Loss: 2.73e-01\n",
      "Mean Test Loss:  3.36e-01\n",
      "Epoch: 30\n",
      "Mean Train Loss: 2.51e-01\n",
      "Mean Test Loss:  2.92e-01\n",
      "Epoch: 40\n",
      "Mean Train Loss: 2.18e-01\n",
      "Mean Test Loss:  4.38e-01\n",
      "Epoch: 50\n",
      "Mean Train Loss: 1.94e-01\n",
      "Mean Test Loss:  4.98e-01\n",
      "Epoch: 60\n",
      "Mean Train Loss: 1.96e-01\n",
      "Mean Test Loss:  4.95e-01\n",
      "Epoch: 70\n",
      "Mean Train Loss: 1.74e-01\n",
      "Mean Test Loss:  6.11e-01\n",
      "Epoch: 80\n",
      "Mean Train Loss: 1.72e-01\n",
      "Mean Test Loss:  7.64e-01\n",
      "Epoch: 90\n",
      "Mean Train Loss: 1.70e-01\n",
      "Mean Test Loss:  5.60e-01\n",
      "Epoch: 100\n",
      "Mean Train Loss: 1.46e-01\n",
      "Mean Test Loss:  6.85e-01\n",
      "\n",
      "Running model with dropout 0.5\n",
      "Epoch: 0\n",
      "Mean Train Loss: 1.28e+00\n",
      "Mean Test Loss:  3.14e-01\n",
      "Epoch: 10\n",
      "Mean Train Loss: 4.55e-01\n",
      "Mean Test Loss:  1.68e-01\n",
      "Epoch: 20\n",
      "Mean Train Loss: 5.37e-01\n",
      "Mean Test Loss:  2.09e-01\n",
      "Epoch: 30\n",
      "Mean Train Loss: 5.16e-01\n",
      "Mean Test Loss:  2.56e-01\n",
      "Epoch: 40\n",
      "Mean Train Loss: 5.24e-01\n",
      "Mean Test Loss:  3.25e-01\n",
      "Epoch: 50\n",
      "Mean Train Loss: 5.20e-01\n",
      "Mean Test Loss:  3.10e-01\n",
      "Epoch: 60\n",
      "Mean Train Loss: 5.65e-01\n",
      "Mean Test Loss:  3.27e-01\n",
      "Epoch: 70\n",
      "Mean Train Loss: 5.28e-01\n",
      "Mean Test Loss:  4.34e-01\n",
      "Epoch: 80\n",
      "Mean Train Loss: 5.28e-01\n",
      "Mean Test Loss:  4.44e-01\n",
      "Epoch: 90\n",
      "Mean Train Loss: 5.08e-01\n",
      "Mean Test Loss:  3.92e-01\n",
      "Epoch: 100\n",
      "Mean Train Loss: 5.57e-01\n",
      "Mean Test Loss:  4.94e-01\n",
      "\n"
     ]
    },
    {
     "data": {
      "image/png": "[encoded data removed]",
      "text/plain": [
       "<Figure size 1500x500 with 3 Axes>"
      ]
     },
     "metadata": {},
     "output_type": "display_data"
    }
   ],
   "source": [
    "fig = plt.gcf()\n",
    "fig.set_size_inches(15, 5)\n",
    "\n",
    "for i, p in enumerate([0.1, 0.25, 0.5]):\n",
    "    print(f\"Running model with dropout {p}\")\n",
    "    \n",
    "    # input shape is (B, 784)\n",
    "    w_h = init_weights((784, 625))\n",
    "    # hidden layer with 625 neurons\n",
    "    w_h2 = init_weights((625, 625))\n",
    "    # hidden layer with 625 neurons\n",
    "    w_o = init_weights((625, 10))\n",
    "    # output shape is (B, 10)\n",
    "\n",
    "    optimizer = RMSprop(params=[w_h, w_h2, w_o])\n",
    "\n",
    "    n_epochs = 100\n",
    "\n",
    "    train_loss = []\n",
    "    test_loss = []\n",
    "\n",
    "    # put this into a training loop over 100 epochs\n",
    "    for epoch in range(n_epochs + 1):\n",
    "        train_loss_this_epoch = []\n",
    "        for idx, batch in enumerate(train_dataloader):\n",
    "            x, y = batch\n",
    "\n",
    "            # our model requires flattened input\n",
    "            x = x.reshape(batch_size, 784)\n",
    "            # feed input through model\n",
    "            noise_py_x = dropout_model(x, w_h, w_h2, w_o, p_drop_input=p, p_drop_hidden=p)\n",
    "\n",
    "            # reset the gradient\n",
    "            optimizer.zero_grad()\n",
    "\n",
    "            # the cross-entropy loss function already contains the softmax\n",
    "            loss = cross_entropy(noise_py_x, y, reduction=\"mean\")\n",
    "\n",
    "            train_loss_this_epoch.append(float(loss))\n",
    "\n",
    "            # compute the gradient\n",
    "            loss.backward()\n",
    "\n",
    "            # update weights\n",
    "            optimizer.step()\n",
    "\n",
    "        train_loss.append(np.mean(train_loss_this_epoch))\n",
    "\n",
    "        # test periodically\n",
    "        if epoch % 10 == 0:\n",
    "            print(f\"Epoch: {epoch}\")\n",
    "            print(f\"Mean Train Loss: {train_loss[-1]:.2e}\")\n",
    "            test_loss_this_epoch = []\n",
    "\n",
    "            # no need to compute gradients for validation\n",
    "            with torch.no_grad():\n",
    "                for idx, batch in enumerate(test_dataloader):\n",
    "                    x, y = batch\n",
    "                    x = x.reshape(batch_size, 784)\n",
    "\n",
    "                    # no dropouts for testing!\n",
    "                    noise_py_x = dropout_model(x, w_h, w_h2, w_o, p_drop_input=0, p_drop_hidden=0)\n",
    "\n",
    "                    loss = cross_entropy(noise_py_x, y, reduction=\"mean\")\n",
    "                    test_loss_this_epoch.append(float(loss))\n",
    "\n",
    "            test_loss.append(np.mean(test_loss_this_epoch))\n",
    "\n",
    "            print(f\"Mean Test Loss:  {test_loss[-1]:.2e}\")\n",
    "\n",
    "            \n",
    "    plt.subplot(1, 3, i+1)\n",
    "    plt.plot(np.arange(n_epochs + 1), train_loss, label=f\"Train\")\n",
    "    plt.plot(np.arange(1, n_epochs + 2, 10), test_loss, label=\"Test\")\n",
    "    plt.title(f\"Dropout {p}\")\n",
    "    plt.xlabel(\"Epoch\")\n",
    "    plt.ylabel(\"Loss\")\n",
    "    plt.legend()\n",
    "    print()\n"
   ]
  },
  {
   "cell_type": "markdown",
   "metadata": {},
   "source": [
    "Dropout of a random percentage of neurons for training is used to improve overfitting (which this particular network configuration and dataset suffers from), but it doesn't seem  too have too much of an effect, as the graphs show.\n",
    "\n",
    "This suggest that the structure of the network should likely be changed, since it generalizes the data quite poorly."
   ]
  },
  {
   "cell_type": "markdown",
   "id": "d6275a91",
   "metadata": {},
   "source": [
    "# PRelu"
   ]
  },
  {
   "cell_type": "markdown",
   "metadata": {},
   "source": [
    "\n",
    "<div style='color:green'>The PRelu function behaves in the same way as the author's solution, but the implementation is much, much less efficient (we weren't aware of the `where` tensor function).</div>"
   ]
  },
  {
   "cell_type": "code",
   "execution_count": 1,
   "id": "6622b989",
   "metadata": {},
   "outputs": [],
   "source": [
    "import numpy as np\n",
    "import matplotlib.pyplot as plt\n",
    "\n",
    "import torch\n",
    "import torch.optim as optim\n",
    "from torch.utils.data import DataLoader\n",
    "\n",
    "import torchvision.datasets as datasets\n",
    "import torchvision.transforms as transforms\n",
    "\n",
    "from torch.nn.functional import conv2d, max_pool2d, cross_entropy\n",
    "\n",
    "plt.rc(\"figure\", dpi=100)"
   ]
  },
  {
   "cell_type": "code",
   "execution_count": 2,
   "id": "8a85acd1",
   "metadata": {},
   "outputs": [],
   "source": [
    "batch_size = 100\n",
    "\n",
    "# transform images into normalized tensors\n",
    "transform = transforms.Compose([\n",
    "    transforms.ToTensor(),\n",
    "    transforms.Normalize(mean=(0.5,), std=(0.5,))\n",
    "])\n",
    "\n",
    "train_dataset = datasets.MNIST(\n",
    "    \"./\",\n",
    "    download=True,\n",
    "    train=True,\n",
    "    transform=transform,\n",
    ")\n",
    "\n",
    "test_dataset = datasets.MNIST(\n",
    "    \"./\",\n",
    "    download=True,\n",
    "    train=False,\n",
    "    transform=transform,\n",
    ")\n",
    "\n",
    "train_dataloader = DataLoader(\n",
    "    dataset=train_dataset,\n",
    "    batch_size=batch_size,\n",
    "    shuffle=True,\n",
    "    num_workers=1,\n",
    "    pin_memory=True,\n",
    ")\n",
    "\n",
    "test_dataloader = DataLoader(\n",
    "    dataset=test_dataset,\n",
    "    batch_size=batch_size,\n",
    "    shuffle=False,\n",
    "    num_workers=1,\n",
    "    pin_memory=True,\n",
    ")"
   ]
  },
  {
   "cell_type": "code",
   "execution_count": 3,
   "id": "51900634",
   "metadata": {},
   "outputs": [],
   "source": [
    "def init_weights(shape):\n",
    "    # Kaiming He initialization (a good initialization is important)\n",
    "    # https://arxiv.org/abs/1502.01852\n",
    "    std = np.sqrt(2. / shape[0])\n",
    "    w = torch.randn(size=shape) * std\n",
    "    w.requires_grad = True\n",
    "    return w\n",
    "\n",
    "\n",
    "def rectify(x):\n",
    "    # Rectified Linear Unit (ReLU)\n",
    "    return torch.max(torch.zeros_like(x), x)\n",
    "\n",
    "def PRelu(X,a):\n",
    "    return torch.maximum(torch.zeros_like(X),X)+ a[0]*torch.minimum(torch.zeros_like(X),X)\n",
    "\n",
    "\n",
    "class RMSprop(optim.Optimizer):\n",
    "    \"\"\"\n",
    "    This is a reduced version of the PyTorch internal RMSprop optimizer\n",
    "    It serves here as an example\n",
    "    \"\"\"\n",
    "    def __init__(self, params, lr=1e-3, alpha=0.5, eps=1e-8):\n",
    "        defaults = dict(lr=lr, alpha=alpha, eps=eps)\n",
    "        super(RMSprop, self).__init__(params, defaults)\n",
    "\n",
    "    def step(self):\n",
    "        for group in self.param_groups:\n",
    "            for p in group['params']:\n",
    "                grad = p.grad.data\n",
    "                state = self.state[p]\n",
    "\n",
    "                # state initialization\n",
    "                if len(state) == 0:\n",
    "                    state['square_avg'] = torch.zeros_like(p.data)\n",
    "\n",
    "                square_avg = state['square_avg']\n",
    "                alpha = group['alpha']\n",
    "\n",
    "                # update running averages\n",
    "                square_avg.mul_(alpha).addcmul_(grad, grad, value=1 - alpha)\n",
    "                avg = square_avg.sqrt().add_(group['eps'])\n",
    "\n",
    "                # gradient update\n",
    "                p.data.addcdiv_(grad, avg, value=-group['lr'])\n",
    "\n",
    "\n",
    "# define the neural network\n",
    "def model(x, w_h, w_h2, w_o, a):\n",
    "    h = PRelu(x @ w_h, a)\n",
    "    h2 = PRelu(h @ w_h2, a)\n",
    "    pre_softmax = h2 @ w_o\n",
    "    return pre_softmax"
   ]
  },
  {
   "cell_type": "code",
   "execution_count": 4,
   "id": "7a230e6a",
   "metadata": {
    "scrolled": true
   },
   "outputs": [
    {
     "name": "stdout",
     "output_type": "stream",
     "text": [
      "Epoch: 0\n",
      "Mean Train Loss: 4.15e-01\n",
      "Mean Test Loss:  2.19e-01\n",
      "Epoch: 10\n",
      "Mean Train Loss: 1.02e-01\n",
      "Mean Test Loss:  2.92e-01\n",
      "Epoch: 20\n",
      "Mean Train Loss: 7.05e-02\n",
      "Mean Test Loss:  1.97e-01\n",
      "Epoch: 30\n",
      "Mean Train Loss: 5.26e-02\n",
      "Mean Test Loss:  2.20e-01\n",
      "Epoch: 40\n",
      "Mean Train Loss: 4.82e-02\n",
      "Mean Test Loss:  2.99e-01\n",
      "Epoch: 50\n",
      "Mean Train Loss: 4.82e-02\n",
      "Mean Test Loss:  3.36e-01\n",
      "Epoch: 60\n",
      "Mean Train Loss: 3.59e-02\n",
      "Mean Test Loss:  3.87e-01\n",
      "Epoch: 70\n",
      "Mean Train Loss: 3.61e-02\n",
      "Mean Test Loss:  3.26e-01\n",
      "Epoch: 80\n",
      "Mean Train Loss: 3.08e-02\n",
      "Mean Test Loss:  5.41e-01\n",
      "Epoch: 90\n",
      "Mean Train Loss: 2.72e-02\n",
      "Mean Test Loss:  4.31e-01\n",
      "Epoch: 100\n",
      "Mean Train Loss: 3.02e-02\n",
      "Mean Test Loss:  4.88e-01\n"
     ]
    },
    {
     "data": {
      "text/plain": [
       "<matplotlib.legend.Legend at 0x2cd3f1ef8e0>"
      ]
     },
     "execution_count": 4,
     "metadata": {},
     "output_type": "execute_result"
    },
    {
     "data": {
      "image/png": "[encoded data removed]",
      "text/plain": [
       "<Figure size 640x480 with 1 Axes>"
      ]
     },
     "metadata": {},
     "output_type": "display_data"
    }
   ],
   "source": [
    "# initialize weights\n",
    "\n",
    "# input shape is (B, 784)\n",
    "w_h = init_weights((784, 625))\n",
    "# hidden layer with 625 neurons\n",
    "w_h2 = init_weights((625, 625))\n",
    "# hidden layer with 625 neurons\n",
    "w_o = init_weights((625, 10))\n",
    "# output shape is (B, 10)\n",
    "#learnable weightvector \n",
    "a = init_weights((784,625))\n",
    "\n",
    "optimizer = RMSprop(params=[w_h, w_h2, w_o, a])\n",
    "\n",
    "\n",
    "n_epochs = 100\n",
    "\n",
    "train_loss = []\n",
    "test_loss = []\n",
    "\n",
    "# put this into a training loop over 100 epochs\n",
    "for epoch in range(n_epochs + 1):\n",
    "    train_loss_this_epoch = []\n",
    "    for idx, batch in enumerate(train_dataloader):\n",
    "        x, y = batch\n",
    "\n",
    "        # our model requires flattened input\n",
    "        x = x.reshape(batch_size, 784)\n",
    "        # feed input through model\n",
    "        noise_py_x = model(x, w_h, w_h2, w_o, a)\n",
    "\n",
    "        # reset the gradient\n",
    "        optimizer.zero_grad()\n",
    "\n",
    "        # the cross-entropy loss function already contains the softmax\n",
    "        loss = cross_entropy(noise_py_x, y, reduction=\"mean\")\n",
    "\n",
    "        train_loss_this_epoch.append(float(loss))\n",
    "\n",
    "        # compute the gradient\n",
    "        loss.backward()\n",
    "        # update weights\n",
    "        optimizer.step()\n",
    "\n",
    "    train_loss.append(np.mean(train_loss_this_epoch))\n",
    "\n",
    "    # test periodically\n",
    "    if epoch % 10 == 0:\n",
    "        print(f\"Epoch: {epoch}\")\n",
    "        print(f\"Mean Train Loss: {train_loss[-1]:.2e}\")\n",
    "        test_loss_this_epoch = []\n",
    "\n",
    "        # no need to compute gradients for validation\n",
    "        with torch.no_grad():\n",
    "            for idx, batch in enumerate(test_dataloader):\n",
    "                x, y = batch\n",
    "                x = x.reshape(batch_size, 784)\n",
    "                noise_py_x = model(x, w_h, w_h2, w_o, a)\n",
    "\n",
    "                loss = cross_entropy(noise_py_x, y, reduction=\"mean\")\n",
    "                test_loss_this_epoch.append(float(loss))\n",
    "\n",
    "        test_loss.append(np.mean(test_loss_this_epoch))\n",
    "\n",
    "        print(f\"Mean Test Loss:  {test_loss[-1]:.2e}\")\n",
    "\n",
    "plt.plot(np.arange(n_epochs + 1), train_loss, label=\"Train\")\n",
    "plt.plot(np.arange(1, n_epochs + 2, 10), test_loss, label=\"Test\")\n",
    "plt.title(\"Train and Test Loss over Training\")\n",
    "plt.xlabel(\"Epoch\")\n",
    "plt.ylabel(\"Loss\")\n",
    "plt.legend()"
   ]
  },
  {
   "cell_type": "markdown",
   "metadata": {},
   "source": [
    "# CNN"
   ]
  },
  {
   "cell_type": "markdown",
   "metadata": {},
   "source": [
    "<div style='color:green'>The CNN is implemented and performs similarly to the author's solution. The code structure is different to author's solution but achieves the same network structure.</div>"
   ]
  },
  {
   "cell_type": "markdown",
   "metadata": {},
   "source": [
    "<div style='color:green'>As an additional task, we chose to drop one convolutional layer (where the author chose unisotropic filters) so w can't really compare. Our results were, however, quite good, as a dropped layer achieved a significant improvement in the training and testing error.</div>"
   ]
  },
  {
   "cell_type": "markdown",
   "metadata": {},
   "source": [
    "## Imports"
   ]
  },
  {
   "cell_type": "code",
   "execution_count": 1,
   "metadata": {},
   "outputs": [],
   "source": [
    "import numpy as np\n",
    "import matplotlib.pyplot as plt\n",
    "\n",
    "import torch\n",
    "import torch.optim as optim\n",
    "from torch.utils.data import DataLoader\n",
    "\n",
    "import torchvision.datasets as datasets\n",
    "import torchvision.transforms as transforms\n",
    "import torch.distributions.binomial as binomial\n",
    "\n",
    "from torch.nn.functional import conv2d, max_pool2d, cross_entropy\n",
    "\n",
    "from time import time # for time measurement\n",
    "\n",
    "plt.rc(\"figure\", dpi=100)"
   ]
  },
  {
   "cell_type": "code",
   "execution_count": 2,
   "metadata": {},
   "outputs": [
    {
     "name": "stdout",
     "output_type": "stream",
     "text": [
      "cuda:0\n"
     ]
    }
   ],
   "source": [
    "device = torch.device(\"cuda:0\" if torch.cuda.is_available() else \"cpu\")\n",
    "torch.cuda.set_device(device)\n",
    "print(device)"
   ]
  },
  {
   "cell_type": "markdown",
   "metadata": {},
   "source": [
    "## Input data"
   ]
  },
  {
   "cell_type": "code",
   "execution_count": 45,
   "metadata": {},
   "outputs": [],
   "source": [
    "batch_size = 100\n",
    "\n",
    "# transform images into normalized tensors\n",
    "transform = transforms.Compose([\n",
    "    transforms.ToTensor(),\n",
    "    transforms.Normalize(mean=(0.5,), std=(0.5,))\n",
    "])\n",
    "\n",
    "train_dataset = datasets.MNIST(\n",
    "    \"./\",\n",
    "    download=True,\n",
    "    train=True,\n",
    "    transform=transform,\n",
    ")\n",
    "\n",
    "test_dataset = datasets.MNIST(\n",
    "    \"./\",\n",
    "    download=True,\n",
    "    train=False,\n",
    "    transform=transform,\n",
    ")\n",
    "\n",
    "\n",
    "# # Reduce train & test sets for testing the procedure\n",
    "# train_dataset = torch.utils.data.Subset(train_dataset, list(range(600)))\n",
    "# test_dataset = torch.utils.data.Subset(test_dataset, list(range(100)))\n",
    "\n",
    "\n",
    "train_dataloader = DataLoader(\n",
    "    dataset=train_dataset,\n",
    "    batch_size=batch_size,\n",
    "    shuffle=True,\n",
    "    num_workers=1,\n",
    "    pin_memory=True,\n",
    ")\n",
    "\n",
    "test_dataloader = DataLoader(\n",
    "    dataset=test_dataset,\n",
    "    batch_size=batch_size,\n",
    "    shuffle=False,\n",
    "    num_workers=1,\n",
    "    pin_memory=True,\n",
    ")"
   ]
  },
  {
   "cell_type": "markdown",
   "metadata": {},
   "source": [
    "## Utility functions"
   ]
  },
  {
   "cell_type": "code",
   "execution_count": 4,
   "metadata": {},
   "outputs": [],
   "source": [
    "def init_weights(shape):\n",
    "    # Kaiming He initialization (a good initialization is important)\n",
    "    # https://arxiv.org/abs/1502.01852\n",
    "    std = np.sqrt(2. / shape[0])\n",
    "    w = torch.randn(size=shape, device=device) * std\n",
    "    w.requires_grad = True\n",
    "    \n",
    "    return w\n",
    "\n",
    "\n",
    "def rectify(x):\n",
    "    # Rectified Linear Unit (ReLU)\n",
    "    return torch.max(torch.zeros_like(x), x)\n",
    "\n",
    "\n",
    "def dropout(X, p_drop=0.5):\n",
    "    if not (0 < p_drop < 1): return X\n",
    "    # phi = binomial.Binomial(torch.ones(X.shape), 1 - p_drop).sample()\n",
    "    _, *phi_shape = X.shape # remove the first entry of X.shape in order to replace it with 1\n",
    "    phi = torch.rand([1] + phi_shape, device=device)\n",
    "    \n",
    "    # return phi.to(device)*X / (1-p_drop)\n",
    "    return (phi>p_drop)*X / (1-p_drop)\n",
    "\n",
    "\n",
    "def PRelu(X, a):\n",
    "    '''\n",
    "    Parametric ReLU, i.e. returns a copy of 'X' where all negative entries have been\n",
    "    multiplied with the corresponding entries in 'a'.\n",
    "    '''\n",
    "    return ((X>=0) + (X<0)*a) * X\n",
    "\n",
    "\n",
    "def convolute(X, w, p_drop):\n",
    "    '''\n",
    "    Performs convolution, ReLU, subsampling and dropout\n",
    "    '''\n",
    "    conv = conv2d(X, w)\n",
    "    rect = rectify(conv)\n",
    "    subs = max_pool2d(rect, (2, 2))\n",
    "    drop = dropout(subs, p_drop)\n",
    "\n",
    "    return drop\n",
    "\n",
    "\n",
    "class RMSprop(optim.Optimizer):\n",
    "    \"\"\"\n",
    "    This is a reduced version of the PyTorch internal RMSprop optimizer\n",
    "    It serves here as an example\n",
    "    \"\"\"\n",
    "    def __init__(self, params, lr=1e-3, alpha=0.5, eps=1e-8):\n",
    "        defaults = dict(lr=lr, alpha=alpha, eps=eps)\n",
    "        super(RMSprop, self).__init__(params, defaults)\n",
    "\n",
    "    def step(self):\n",
    "        for group in self.param_groups:\n",
    "            for p in group['params']:\n",
    "                grad = p.grad.data\n",
    "                state = self.state[p]\n",
    "\n",
    "                # state initialization\n",
    "                if len(state) == 0:\n",
    "                    state['square_avg'] = torch.zeros_like(p.data)\n",
    "\n",
    "                square_avg = state['square_avg']\n",
    "                alpha = group['alpha']\n",
    "\n",
    "                # update running averages\n",
    "                square_avg.mul_(alpha).addcmul_(grad, grad, value=1 - alpha)\n",
    "                avg = square_avg.sqrt().add_(group['eps'])\n",
    "\n",
    "                # gradient update\n",
    "                p.data.addcdiv_(grad, avg, value=-group['lr'])"
   ]
  },
  {
   "cell_type": "markdown",
   "metadata": {},
   "source": [
    "## Models"
   ]
  },
  {
   "cell_type": "code",
   "execution_count": 44,
   "metadata": {},
   "outputs": [],
   "source": [
    "def cnn_model(x, w_c1, w_c2, w_c3, w_h2, w_a2, w_o, p_drop_input, p_drop_hidden):\n",
    "    c1 = convolute(dropout(x, p_drop_input), w_c1, p_drop_hidden)\n",
    "    c2 = convolute(c1, w_c2, p_drop_hidden)\n",
    "    c3 = convolute(c2, w_c3, p_drop_hidden)\n",
    "\n",
    "    c3 = c3.reshape(-1, 128)\n",
    "\n",
    "    h2 = dropout(c3 @ w_h2, p_drop_hidden)\n",
    "    a2 = PRelu(h2, w_a2)\n",
    "    pre_softmax = a2 @ w_o\n",
    "\n",
    "    return pre_softmax\n",
    "\n",
    "\n",
    "# remove one convolution layer\n",
    "def cnn_model_reduced(x, w_c1, w_c2, w_h2, w_a2, w_o, p_drop_input, p_drop_hidden):\n",
    "    c1 = convolute(dropout(x, p_drop_input), w_c1, p_drop_hidden)\n",
    "    c2 = convolute(c1, w_c2, p_drop_hidden)\n",
    "\n",
    "    c2 = c2.reshape(-1, 1024)\n",
    "\n",
    "    h2 = dropout(c2 @ w_h2, p_drop_hidden)\n",
    "    a2 = PRelu(h2, w_a2)\n",
    "    pre_softmax = a2 @ w_o\n",
    "\n",
    "    return pre_softmax"
   ]
  },
  {
   "cell_type": "markdown",
   "metadata": {},
   "source": [
    "## Time keeping"
   ]
  },
  {
   "cell_type": "code",
   "execution_count": 6,
   "metadata": {},
   "outputs": [],
   "source": [
    "def time_to_str(time):\n",
    "    '''\n",
    "    Converts time (in seconds) to more readable format\n",
    "    '''\n",
    "    time = round(time)\n",
    "    hours = time//3600\n",
    "    minutes = (time%3600)//60\n",
    "    seconds = time%60\n",
    "\n",
    "    return f\"{hours:3d}h {minutes:02d}m {seconds:02d}s\"\n",
    "\n",
    "\n",
    "def print_time_info(time_start, time, n_epochs, i_epoch):\n",
    "    dtime = time - time_start\n",
    "    print(f\"Time elapsed: {time_to_str(dtime)} | Time remaining: {time_to_str((n_epochs - i_epoch - 1) * dtime / (i_epoch + 1))}\")"
   ]
  },
  {
   "cell_type": "markdown",
   "metadata": {},
   "source": [
    "## Running the network"
   ]
  },
  {
   "cell_type": "markdown",
   "metadata": {},
   "source": [
    "Note that the training losses are skewed by dropout (since we're multiplying non-dropped inputs)."
   ]
  },
  {
   "cell_type": "code",
   "execution_count": 49,
   "metadata": {},
   "outputs": [
    {
     "name": "stdout",
     "output_type": "stream",
     "text": [
      "Running CNN model with dropout 0.2\n",
      "Epoch: 0\n",
      "Mean Train Loss: 1.23e+00\n",
      "Mean Test Loss:  8.78e-02\n",
      "Time elapsed:   0h 00m 20s | Time remaining:   0h 33m 09s\n",
      "Epoch: 10\n",
      "Mean Train Loss: 1.67e-01\n",
      "Mean Test Loss:  5.68e-02\n",
      "Time elapsed:   0h 02m 51s | Time remaining:   0h 23m 03s\n",
      "Epoch: 20\n",
      "Mean Train Loss: 1.56e-01\n",
      "Mean Test Loss:  6.35e-02\n",
      "Time elapsed:   0h 05m 22s | Time remaining:   0h 20m 11s\n",
      "Epoch: 30\n",
      "Mean Train Loss: 1.34e-01\n",
      "Mean Test Loss:  6.88e-02\n",
      "Time elapsed:   0h 07m 55s | Time remaining:   0h 17m 37s\n",
      "Epoch: 40\n",
      "Mean Train Loss: 1.25e-01\n",
      "Mean Test Loss:  4.70e-02\n",
      "Time elapsed:   0h 10m 27s | Time remaining:   0h 15m 02s\n",
      "Epoch: 50\n",
      "Mean Train Loss: 1.29e-01\n",
      "Mean Test Loss:  5.70e-02\n",
      "Time elapsed:   0h 12m 58s | Time remaining:   0h 12m 27s\n",
      "Epoch: 60\n",
      "Mean Train Loss: 1.32e-01\n",
      "Mean Test Loss:  5.67e-02\n",
      "Time elapsed:   0h 15m 29s | Time remaining:   0h 09m 54s\n",
      "Epoch: 70\n",
      "Mean Train Loss: 1.30e-01\n",
      "Mean Test Loss:  5.12e-02\n",
      "Time elapsed:   0h 17m 59s | Time remaining:   0h 07m 21s\n",
      "Epoch: 80\n",
      "Mean Train Loss: 1.30e-01\n",
      "Mean Test Loss:  6.61e-02\n",
      "Time elapsed:   0h 20m 33s | Time remaining:   0h 04m 49s\n",
      "Epoch: 90\n",
      "Mean Train Loss: 1.23e-01\n",
      "Mean Test Loss:  5.34e-02\n",
      "Time elapsed:   0h 23m 06s | Time remaining:   0h 02m 17s\n",
      "Epoch: 100\n",
      "Mean Train Loss: 1.28e-01\n",
      "Mean Test Loss:  5.36e-02\n",
      "Time elapsed:   0h 25m 39s | Time remaining:  -1h 59m 45s\n",
      "\n",
      "Done!\n"
     ]
    }
   ],
   "source": [
    "# stuff for keeping and estimating time\n",
    "time_start = time()\n",
    "\n",
    "p = 0.2\n",
    "print(f\"Running CNN model with dropout {p}\")\n",
    "\n",
    "w_c1 = init_weights((32, 1, 5, 5))\n",
    "w_c2 = init_weights((64, 32, 5, 5))\n",
    "# w_c3 = init_weights((128, 64, 2, 2))\n",
    "# w_h2 = init_weights((128, 625))\n",
    "w_h2 = init_weights((1024, 625))\n",
    "w_a2 = init_weights((625,))\n",
    "w_o = init_weights((625, 10))\n",
    "\n",
    "# optimizer = RMSprop(params=[w_c1, w_c2, w_c3, w_h2, w_a2, w_o])\n",
    "optimizer = RMSprop(params=[w_c1, w_c2, w_h2, w_a2, w_o])\n",
    "\n",
    "n_epochs = 100\n",
    "\n",
    "train_loss = []\n",
    "test_loss = []\n",
    "\n",
    "# put this into a training loop over 100 epochs\n",
    "for epoch in range(n_epochs + 1):\n",
    "    train_loss_this_epoch = []\n",
    "    for idx, batch in enumerate(train_dataloader):\n",
    "        x, y = batch\n",
    "\n",
    "        x = x.to(device)\n",
    "        y = y.to(device)\n",
    "\n",
    "        # our model requires input of dim (c x w x h)\n",
    "        x = x.reshape(batch_size, 1, 28, 28)\n",
    "        # feed input through model\n",
    "        # noise_py_x = cnn_model(x, w_c1, w_c2, w_c3, w_h2, w_a2, w_o, p_drop_input=p, p_drop_hidden=p)\n",
    "        noise_py_x = cnn_model_reduced(x, w_c1, w_c2, w_h2, w_a2, w_o, p_drop_input=p, p_drop_hidden=p)\n",
    "\n",
    "        # reset the gradient\n",
    "        optimizer.zero_grad()\n",
    "\n",
    "        # the cross-entropy loss function already contains the softmax\n",
    "        loss = cross_entropy(noise_py_x, y, reduction=\"mean\")\n",
    "\n",
    "        train_loss_this_epoch.append(float(loss.to(\"cpu\")))\n",
    "\n",
    "        # compute the gradient\n",
    "        loss.backward()\n",
    "\n",
    "        # update weights\n",
    "        optimizer.step()\n",
    "\n",
    "    train_loss.append(np.mean(train_loss_this_epoch))\n",
    "\n",
    "    # test periodically\n",
    "    if epoch % 10 == 0:\n",
    "        print(f\"Epoch: {epoch}\")\n",
    "        print(f\"Mean Train Loss: {train_loss[-1]:.2e}\")\n",
    "        test_loss_this_epoch = []\n",
    "\n",
    "        # no need to compute gradients for validation\n",
    "        with torch.no_grad():\n",
    "            for idx, batch in enumerate(test_dataloader):\n",
    "                x, y = batch\n",
    "\n",
    "                x = x.to(device)\n",
    "                y = y.to(device)\n",
    "                x = x.reshape(batch_size, 1, 28, 28)\n",
    "\n",
    "                # no dropouts for testing!\n",
    "                # noise_py_x = cnn_model(x, w_c1, w_c2, w_c3, w_h2, w_a2, w_o, p_drop_input=0, p_drop_hidden=0)\n",
    "                noise_py_x = cnn_model_reduced(x, w_c1, w_c2, w_h2, w_a2, w_o, p_drop_input=0, p_drop_hidden=0)\n",
    "\n",
    "                loss = cross_entropy(noise_py_x, y, reduction=\"mean\")\n",
    "                test_loss_this_epoch.append(float(loss.to(\"cpu\")))\n",
    "\n",
    "        test_loss.append(np.mean(test_loss_this_epoch))\n",
    "\n",
    "        print(f\"Mean Test Loss:  {test_loss[-1]:.2e}\")\n",
    "        print_time_info(time_start, time(), n_epochs, epoch)\n",
    "\n",
    "print(\"\\nDone!\")\n"
   ]
  },
  {
   "cell_type": "code",
   "execution_count": 50,
   "metadata": {},
   "outputs": [
    {
     "data": {
      "image/png": "[encoded data removed]",
      "text/plain": [
       "<Figure size 500x500 with 1 Axes>"
      ]
     },
     "metadata": {},
     "output_type": "display_data"
    }
   ],
   "source": [
    "fig = plt.gcf()\n",
    "fig.set_size_inches(5, 5)\n",
    "\n",
    "plt.plot(np.arange(1, n_epochs + 2), train_loss, label=f\"Train\")\n",
    "plt.plot(np.arange(1, n_epochs + 2, 10), test_loss, label=\"Test\")\n",
    "plt.title(f\"CNN with dropout {p}\")\n",
    "plt.ylim(0, 1)\n",
    "plt.grid()\n",
    "plt.show()"
   ]
  },
  {
   "cell_type": "code",
   "execution_count": 51,
   "metadata": {},
   "outputs": [],
   "source": [
    "params = optimizer.param_groups.copy()[0]['params']"
   ]
  },
  {
   "cell_type": "code",
   "execution_count": null,
   "metadata": {},
   "outputs": [],
   "source": [
    "# full model saved in 'optimizer'"
   ]
  },
  {
   "cell_type": "code",
   "execution_count": 52,
   "metadata": {},
   "outputs": [
    {
     "name": "stdout",
     "output_type": "stream",
     "text": [
      "torch.Size([32, 1, 5, 5])\n",
      "torch.Size([64, 32, 5, 5])\n",
      "torch.Size([1024, 625])\n",
      "torch.Size([625])\n",
      "torch.Size([625, 10])\n"
     ]
    }
   ],
   "source": [
    "for t in params:\n",
    "    print(t.shape)"
   ]
  },
  {
   "cell_type": "code",
   "execution_count": 53,
   "metadata": {},
   "outputs": [
    {
     "name": "stdout",
     "output_type": "stream",
     "text": [
      "5\n"
     ]
    }
   ],
   "source": [
    "sample_in, sample_out = test_dataset[23]\n",
    "sample_img = sample_in[0]\n",
    "print(sample_out)"
   ]
  },
  {
   "cell_type": "code",
   "execution_count": 54,
   "metadata": {},
   "outputs": [
    {
     "data": {
      "image/png": "[encoded data removed]",
      "text/plain": [
       "<Figure size 640x480 with 1 Axes>"
      ]
     },
     "metadata": {},
     "output_type": "display_data"
    }
   ],
   "source": [
    "plt.imshow(sample_img, cmap=\"Greys\")\n",
    "plt.show()"
   ]
  },
  {
   "cell_type": "code",
   "execution_count": 55,
   "metadata": {},
   "outputs": [],
   "source": [
    "filtered = convolute(sample_in.to(device), params[0], 0)"
   ]
  },
  {
   "cell_type": "code",
   "execution_count": 61,
   "metadata": {},
   "outputs": [
    {
     "data": {
      "image/png": "[encoded data removed]",
      "text/plain": [
       "<Figure size 1500x1000 with 6 Axes>"
      ]
     },
     "metadata": {},
     "output_type": "display_data"
    }
   ],
   "source": [
    "start_idx = 11\n",
    "\n",
    "plt.gcf().set_size_inches(15, 10)\n",
    "for i in range(3):\n",
    "    plt.subplot(2, 3, i+1)\n",
    "    plt.imshow(filtered[i+start_idx].detach().to(\"cpu\"), cmap=\"Greys\")\n",
    "    plt.subplot(2, 3, i+4)\n",
    "    plt.imshow(params[0][i+start_idx][0].detach().to(\"cpu\"), cmap=\"Greys\")\n",
    "plt.show()"
   ]
  }
 ],
 "metadata": {
  "kernelspec": {
   "display_name": "Python 3 (ipykernel)",
   "language": "python",
   "name": "python3"
  },
  "language_info": {
   "codemirror_mode": {
    "name": "ipython",
    "version": 3
   },
   "file_extension": ".py",
   "mimetype": "text/x-python",
   "name": "python",
   "nbconvert_exporter": "python",
   "pygments_lexer": "ipython3",
   "version": "3.11.3"
  }
 },
 "nbformat": 4,
 "nbformat_minor": 2
}
