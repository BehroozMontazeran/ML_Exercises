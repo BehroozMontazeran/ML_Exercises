{
 "cells": [
  {
   "cell_type": "markdown",
   "metadata": {},
   "source": [
    "# Machine Learning Essentials sheet 03"
   ]
  },
  {
   "cell_type": "markdown",
   "metadata": {},
   "source": [
    "<div style=\"color: green; font-weight:bold\"> This is the easy part of the exercise, which is just copying and pasting the code. Therefore, the same result as the worked example.</div>"
   ]
  },
  {
   "cell_type": "code",
   "execution_count": null,
   "metadata": {},
   "outputs": [],
   "source": [
    "import numpy as np\n",
    "import matplotlib.pyplot as plt\n",
    "\n",
    "import torch\n",
    "import torch.optim as optim\n",
    "from torch.utils.data import DataLoader\n",
    "\n",
    "import torchvision.datasets as datasets\n",
    "import torchvision.transforms as transforms\n",
    "\n",
    "from torch.nn.functional import conv2d, max_pool2d, cross_entropy"
   ]
  },
  {
   "cell_type": "code",
   "execution_count": 2,
   "metadata": {},
   "outputs": [],
   "source": [
    "plt.rc(\"figure\", dpi=100)\n",
    "\n",
    "batch_size = 100\n",
    "\n",
    "# transform images into normalized tensors\n",
    "transform = transforms.Compose([\n",
    "    transforms.ToTensor(),\n",
    "    transforms.Normalize(mean=(0.5,), std=(0.5,))\n",
    "])\n",
    "\n",
    "train_dataset = datasets.MNIST(\n",
    "    \"./\",\n",
    "    download=True,\n",
    "    train=True,\n",
    "    transform=transform,\n",
    ")\n",
    "\n",
    "test_dataset = datasets.MNIST(\n",
    "    \"./\",\n",
    "    download=True,\n",
    "    train=False,\n",
    "    transform=transform,\n",
    ")\n",
    "\n",
    "train_dataloader = DataLoader(\n",
    "    dataset=train_dataset,\n",
    "    batch_size=batch_size,\n",
    "    shuffle=True,\n",
    "    num_workers=1,\n",
    "    pin_memory=True,\n",
    ")\n",
    "\n",
    "test_dataloader = DataLoader(\n",
    "    dataset=test_dataset,\n",
    "    batch_size=batch_size,\n",
    "    shuffle=False,\n",
    "    num_workers=1,\n",
    "    pin_memory=True,\n",
    ")"
   ]
  },
  {
   "cell_type": "code",
   "execution_count": 3,
   "metadata": {},
   "outputs": [],
   "source": [
    "def init_weights(shape):\n",
    "    # Kaiming He initialization (a good initialization is important)\n",
    "    # https://arxiv.org/abs/1502.01852\n",
    "    std = np.sqrt(2. / shape[0])\n",
    "    w = torch.randn(size=shape) * std\n",
    "    w.requires_grad = True\n",
    "    return w\n",
    "\n",
    "\n",
    "def rectify(x):\n",
    "    # Rectified Linear Unit (ReLU)\n",
    "    return torch.max(torch.zeros_like(x), x)"
   ]
  },
  {
   "cell_type": "code",
   "execution_count": 4,
   "metadata": {},
   "outputs": [],
   "source": [
    "class RMSprop(optim.Optimizer):\n",
    "    \"\"\"\n",
    "    This is a reduced version of the PyTorch internal RMSprop optimizer\n",
    "    It serves here as an example\n",
    "    \"\"\"\n",
    "    def __init__(self, params, lr=1e-3, alpha=0.5, eps=1e-8):\n",
    "        defaults = dict(lr=lr, alpha=alpha, eps=eps)\n",
    "        super(RMSprop, self).__init__(params, defaults)\n",
    "\n",
    "    def step(self):\n",
    "        for group in self.param_groups:\n",
    "            for p in group['params']:\n",
    "                grad = p.grad.data\n",
    "                state = self.state[p]\n",
    "\n",
    "                # state initialization\n",
    "                if len(state) == 0:\n",
    "                    state['square_avg'] = torch.zeros_like(p.data)\n",
    "\n",
    "                square_avg = state['square_avg']\n",
    "                alpha = group['alpha']\n",
    "\n",
    "                # update running averages\n",
    "                square_avg.mul_(alpha).addcmul_(grad, grad, value=1 - alpha)\n",
    "                avg = square_avg.sqrt().add_(group['eps'])\n",
    "\n",
    "                # gradient update\n",
    "                p.data.addcdiv_(grad, avg, value=-group['lr'])\n"
   ]
  },
  {
   "cell_type": "code",
   "execution_count": 5,
   "metadata": {},
   "outputs": [],
   "source": [
    "# define the neural network\n",
    "def model(x, w_h, w_h2, w_o):\n",
    "    h = rectify(x @ w_h)\n",
    "    h2 = rectify(h @ w_h2)\n",
    "    pre_softmax = h2 @ w_o\n",
    "    return pre_softmax\n",
    "\n",
    "\n",
    "# initialize weights\n",
    "\n",
    "# input shape is (B, 784)\n",
    "w_h = init_weights((784, 625))\n",
    "# hidden layer with 625 neurons\n",
    "w_h2 = init_weights((625, 625))\n",
    "# hidden layer with 625 neurons\n",
    "w_o = init_weights((625, 10))\n",
    "# output shape is (B, 10)\n",
    "\n",
    "optimizer = RMSprop(params=[w_h, w_h2, w_o])\n",
    "\n",
    "\n",
    "n_epochs = 100\n",
    "\n",
    "train_loss = []\n",
    "test_loss = []"
   ]
  },
  {
   "cell_type": "code",
   "execution_count": 6,
   "metadata": {},
   "outputs": [
    {
     "name": "stdout",
     "output_type": "stream",
     "text": [
      "Epoch: 0\n",
      "Mean Train Loss: 3.98e-01\n",
      "Mean Test Loss:  2.01e-01\n",
      "Epoch: 10\n",
      "Mean Train Loss: 1.40e-01\n",
      "Mean Test Loss:  2.68e-01\n",
      "Epoch: 20\n",
      "Mean Train Loss: 1.05e-01\n",
      "Mean Test Loss:  4.61e-01\n",
      "Epoch: 30\n",
      "Mean Train Loss: 7.62e-02\n",
      "Mean Test Loss:  5.93e-01\n",
      "Epoch: 40\n",
      "Mean Train Loss: 4.73e-02\n",
      "Mean Test Loss:  7.18e-01\n",
      "Epoch: 50\n",
      "Mean Train Loss: 3.55e-02\n",
      "Mean Test Loss:  6.62e-01\n",
      "Epoch: 60\n",
      "Mean Train Loss: 3.73e-02\n",
      "Mean Test Loss:  7.82e-01\n",
      "Epoch: 70\n",
      "Mean Train Loss: 2.37e-02\n",
      "Mean Test Loss:  7.97e-01\n",
      "Epoch: 80\n",
      "Mean Train Loss: 1.75e-02\n",
      "Mean Test Loss:  8.78e-01\n",
      "Epoch: 90\n",
      "Mean Train Loss: 1.35e-02\n",
      "Mean Test Loss:  9.13e-01\n",
      "Epoch: 100\n",
      "Mean Train Loss: 1.12e-02\n",
      "Mean Test Loss:  8.86e-01\n"
     ]
    },
    {
     "data": {
      "text/plain": [
       "<matplotlib.legend.Legend at 0x7f2d0c516490>"
      ]
     },
     "execution_count": 6,
     "metadata": {},
     "output_type": "execute_result"
    },
    {
     "data": {
      "image/png": "[encoded data removed]",
      "text/plain": [
       "<Figure size 640x480 with 1 Axes>"
      ]
     },
     "metadata": {},
     "output_type": "display_data"
    }
   ],
   "source": [
    "# put this into a training loop over 100 epochs\n",
    "for epoch in range(n_epochs + 1):\n",
    "    train_loss_this_epoch = []\n",
    "    for idx, batch in enumerate(train_dataloader):\n",
    "        x, y = batch\n",
    "\n",
    "        # our model requires flattened input\n",
    "        x = x.reshape(batch_size, 784)\n",
    "        # feed input through model\n",
    "        noise_py_x = model(x, w_h, w_h2, w_o)\n",
    "\n",
    "        # reset the gradient\n",
    "        optimizer.zero_grad()\n",
    "\n",
    "        # the cross-entropy loss function already contains the softmax\n",
    "        loss = cross_entropy(noise_py_x, y, reduction=\"mean\")\n",
    "\n",
    "        train_loss_this_epoch.append(float(loss))\n",
    "\n",
    "        # compute the gradient\n",
    "        loss.backward()\n",
    "        # update weights\n",
    "        optimizer.step()\n",
    "\n",
    "    train_loss.append(np.mean(train_loss_this_epoch))\n",
    "\n",
    "    # test periodically\n",
    "    if epoch % 10 == 0:\n",
    "        print(f\"Epoch: {epoch}\")\n",
    "        print(f\"Mean Train Loss: {train_loss[-1]:.2e}\")\n",
    "        test_loss_this_epoch = []\n",
    "\n",
    "        # no need to compute gradients for validation\n",
    "        with torch.no_grad():\n",
    "            for idx, batch in enumerate(test_dataloader):\n",
    "                x, y = batch\n",
    "                x = x.reshape(batch_size, 784)\n",
    "                noise_py_x = model(x, w_h, w_h2, w_o)\n",
    "\n",
    "                loss = cross_entropy(noise_py_x, y, reduction=\"mean\")\n",
    "                test_loss_this_epoch.append(float(loss))\n",
    "\n",
    "        test_loss.append(np.mean(test_loss_this_epoch))\n",
    "\n",
    "        print(f\"Mean Test Loss:  {test_loss[-1]:.2e}\")\n",
    "\n",
    "plt.plot(np.arange(n_epochs + 1), train_loss, label=\"Train\")\n",
    "plt.plot(np.arange(1, n_epochs + 2, 10), test_loss, label=\"Test\")\n",
    "plt.title(\"Train and Test Loss over Training\")\n",
    "plt.xlabel(\"Epoch\")\n",
    "plt.ylabel(\"Loss\")\n",
    "plt.legend()"
   ]
  },
  {
   "cell_type": "markdown",
   "metadata": {},
   "source": [
    "<div style=\"color: green; font-weight:bold\"> The dropout function is what it should be. However, Bernoulli distribution is used, which is a special case of the binomial distribution </div>"
   ]
  },
  {
   "cell_type": "code",
   "execution_count": 7,
   "metadata": {},
   "outputs": [],
   "source": [
    "def dropout(X, p_drop=0.5):\n",
    "    if 0 < p_drop < 1:\n",
    "        # Copy input tensor\n",
    "        X_0 = X.clone()\n",
    "\n",
    "        # Get length for drawing\n",
    "        shape = X_0.shape\n",
    "\n",
    "        # Draw from a binomial distribution, get the same length as X\n",
    "        Phi = torch.bernoulli(torch.full(shape, p_drop))\n",
    "\n",
    "        # Modify X_0 based on the values in Phi\n",
    "        X_modified = torch.where(Phi == 1, torch.zeros_like(X_0), X_0 / (1 - p_drop))\n",
    "\n",
    "        # Cast into torch tensor\n",
    "        return X_modified\n",
    "\n",
    "    else:\n",
    "        # Return original X if p_drop has no probability\n",
    "        return X"
   ]
  },
  {
   "cell_type": "code",
   "execution_count": 8,
   "metadata": {},
   "outputs": [],
   "source": [
    "def dropout_model (X , w_h , w_h2 , w_o , p_drop_input , p_drop_hidden ):\n",
    "    X_drop = dropout(X, p_drop_input)\n",
    "    h = rectify(X_drop @ w_h)\n",
    "    h_drop = dropout(h, p_drop_hidden)\n",
    "    h2 = rectify(h_drop @ w_h2)\n",
    "    h2_drop = dropout(h2, p_drop_hidden)\n",
    "    pre_softmax = h2_drop @ w_o\n",
    "    return pre_softmax\n",
    "\n",
    "\n",
    "# initialize weights\n",
    "\n",
    "# input shape is (B, 784)\n",
    "w_h = init_weights((784, 625))\n",
    "# hidden layer with 625 neurons\n",
    "w_h2 = init_weights((625, 625))\n",
    "# hidden layer with 625 neurons\n",
    "w_o = init_weights((625, 10))\n",
    "# output shape is (B, 10)\n",
    "\n",
    "p_drop_input = 0.5\n",
    "p_drop_hidden = 0.5\n",
    "\n",
    "optimizer = RMSprop(params=[w_h, w_h2, w_o])\n",
    "\n",
    "\n",
    "n_epochs = 100\n",
    "\n",
    "train_loss = []\n",
    "test_loss = []"
   ]
  },
  {
   "cell_type": "code",
   "execution_count": 9,
   "metadata": {},
   "outputs": [
    {
     "name": "stdout",
     "output_type": "stream",
     "text": [
      "Epoch: 0\n",
      "Mean Train Loss: 1.01e+00\n",
      "Mean Test Loss:  3.33e-01\n",
      "Epoch: 10\n",
      "Mean Train Loss: 1.02e+00\n",
      "Mean Test Loss:  3.08e-01\n",
      "Epoch: 20\n",
      "Mean Train Loss: 1.28e+00\n",
      "Mean Test Loss:  3.98e-01\n",
      "Epoch: 30\n",
      "Mean Train Loss: 1.43e+00\n",
      "Mean Test Loss:  4.08e-01\n",
      "Epoch: 40\n",
      "Mean Train Loss: 1.66e+00\n",
      "Mean Test Loss:  4.67e-01\n",
      "Epoch: 50\n",
      "Mean Train Loss: 1.76e+00\n",
      "Mean Test Loss:  5.69e-01\n",
      "Epoch: 60\n",
      "Mean Train Loss: 1.83e+00\n",
      "Mean Test Loss:  5.84e-01\n",
      "Epoch: 70\n",
      "Mean Train Loss: 1.96e+00\n",
      "Mean Test Loss:  6.02e-01\n",
      "Epoch: 80\n",
      "Mean Train Loss: 2.10e+00\n",
      "Mean Test Loss:  6.88e-01\n",
      "Epoch: 90\n",
      "Mean Train Loss: 2.17e+00\n",
      "Mean Test Loss:  6.66e-01\n",
      "Epoch: 100\n",
      "Mean Train Loss: 2.18e+00\n",
      "Mean Test Loss:  6.63e-01\n"
     ]
    },
    {
     "data": {
      "text/plain": [
       "<matplotlib.legend.Legend at 0x7f2cfcddc1c0>"
      ]
     },
     "execution_count": 9,
     "metadata": {},
     "output_type": "execute_result"
    },
    {
     "data": {
      "image/png": "[encoded data removed]",
      "text/plain": [
       "<Figure size 640x480 with 1 Axes>"
      ]
     },
     "metadata": {},
     "output_type": "display_data"
    }
   ],
   "source": [
    "# put this into a training loop over 100 epochs\n",
    "for epoch in range(n_epochs + 1):\n",
    "    train_loss_this_epoch = []\n",
    "    for idx, batch in enumerate(train_dataloader):\n",
    "        x, y = batch\n",
    "\n",
    "        # our model requires flattened input\n",
    "        x = x.reshape(batch_size, 784)\n",
    "        # feed input through model\n",
    "        noise_py_x = dropout_model(x, w_h, w_h2, w_o, p_drop_input , p_drop_hidden )\n",
    "\n",
    "        # reset the gradient\n",
    "        optimizer.zero_grad()\n",
    "\n",
    "        # the cross-entropy loss function already contains the softmax\n",
    "        loss = cross_entropy(noise_py_x, y, reduction=\"mean\")\n",
    "\n",
    "        train_loss_this_epoch.append(float(loss))\n",
    "\n",
    "        # compute the gradient\n",
    "        loss.backward()\n",
    "        # update weights\n",
    "        optimizer.step()\n",
    "\n",
    "    train_loss.append(np.mean(train_loss_this_epoch))\n",
    "\n",
    "    # test periodically\n",
    "    if epoch % 10 == 0:\n",
    "        print(f\"Epoch: {epoch}\")\n",
    "        print(f\"Mean Train Loss: {train_loss[-1]:.2e}\")\n",
    "        test_loss_this_epoch = []\n",
    "\n",
    "        # no need to compute gradients for validation\n",
    "        with torch.no_grad():\n",
    "            for idx, batch in enumerate(test_dataloader):\n",
    "                x, y = batch\n",
    "                x = x.reshape(batch_size, 784)\n",
    "                noise_py_x = dropout_model(x, w_h, w_h2, w_o, 0, 0)\n",
    "\n",
    "                loss = cross_entropy(noise_py_x, y, reduction=\"mean\")\n",
    "                test_loss_this_epoch.append(float(loss))\n",
    "\n",
    "        test_loss.append(np.mean(test_loss_this_epoch))\n",
    "\n",
    "        print(f\"Mean Test Loss:  {test_loss[-1]:.2e}\")\n",
    "\n",
    "plt.plot(np.arange(n_epochs + 1), train_loss, label=\"Train\")\n",
    "plt.plot(np.arange(1, n_epochs + 2, 10), test_loss, label=\"Test\")\n",
    "plt.title(\"Train and Test Loss over Training\")\n",
    "plt.xlabel(\"Epoch\")\n",
    "plt.ylabel(\"Loss\")\n",
    "plt.legend()"
   ]
  },
  {
   "cell_type": "markdown",
   "metadata": {},
   "source": [
    "<div style=\"color: green; font-weight:bold\"> The explanation of overfitting and the effect of dropout funnction on it is good.</div>"
   ]
  },
  {
   "cell_type": "markdown",
   "metadata": {},
   "source": [
    "## Explanation:\n",
    "### Why reduction of overfitting:\n",
    "The dropout function works in such a way that the portion p_drop of the input is masked with 0, so that random values of the input are missing. The network cannot learn anything from these missing values. The values that are not set to 0 are divided with the counter probability, i.e. scaled up proportionally, so that the sum of all input values does not change so much. This reduces the risk of wrong threshold values for parameters being assumed for non-masked inputs of the same size. In overfitting, the parameters are fitted too precisely to the training data, due to the missing values, there are always values that do not fit this scheme, so there is less data that leads to overfitting. Overall, overfitting is thus reduced.\n",
    "\n",
    "### Why a different model configuration for evaluationg the test loss?\n",
    "Masking of values is only needed for the training process. When evaluating on the test data, it should be checked whether the test data are classified correctly. Removing test data is unnecessary, because the parameters are not changed during testing. If the test data is also masked, this leads to a higher test loss, which does not correspond to reality. For this reason, the model used when evaluating the test set must not contain any dropout.\n",
    "\n",
    "### Comparison of test errors\n",
    "As can be seen very well, the training loss increases with increasing training, which is due to the fact that different data is seen in each epoch and therefore it is difficult for the network to learn in this configuration. Actually, the training loss should decrease. In contrast to the original model, however, we can see here that the test loss is significantly lower than the training loss, which again shows that overfitting does not occur as strongly here as before. In addition, the loss is smaller than that of the original model.\n"
   ]
  },
  {
   "cell_type": "markdown",
   "metadata": {},
   "source": [
    "## 3 Parametric Relu"
   ]
  },
  {
   "cell_type": "markdown",
   "metadata": {},
   "source": [
    "<div style=\"color: green; font-weight:bold\"> The PRelu is correctly defined (although it could be defined more simply using `where`). The accuracy is improved, compared to the previous models, same as the author's solution.</div>"
   ]
  },
  {
   "cell_type": "code",
   "execution_count": 21,
   "metadata": {},
   "outputs": [],
   "source": [
    "def PRelu (X , a ) :\n",
    "    # Repeat a to get matrix of same size as X\n",
    "    a_matrix = a.unsqueeze(0).repeat(X.shape[0], 1)\n",
    "\n",
    "    # Implement f(y_i) = max(0, y_i) + a_i * min(0, y_i)\n",
    "    result = torch.max(torch.zeros_like(X), X) + torch.mul(a_matrix, torch.min(torch.zeros_like(X), X))\n",
    "    return result\n"
   ]
  },
  {
   "cell_type": "code",
   "execution_count": 22,
   "metadata": {},
   "outputs": [],
   "source": [
    "def PRelu_model (X , w_h , w_h2 , w_o , a, a2, p_drop_input , p_drop_hidden ):\n",
    "    # Change rectify to PRelu\n",
    "    X_drop = dropout(X, p_drop_input)\n",
    "    h = PRelu(X_drop @ w_h, a)\n",
    "    h_drop = dropout(h, p_drop_hidden)\n",
    "    h2 = PRelu(h_drop @ w_h2, a2)\n",
    "    h2_drop = dropout(h2, p_drop_hidden)\n",
    "    pre_softmax = h2_drop @ w_o\n",
    "    return pre_softmax\n",
    "\n",
    "\n",
    "\n",
    "# initialize weights\n",
    "\n",
    "# input shape is (B, 784)\n",
    "w_h = init_weights((784, 625))\n",
    "# hidden layer with 625 neurons\n",
    "w_h2 = init_weights((625, 625))\n",
    "# hidden layer with 625 neurons\n",
    "w_o = init_weights((625, 10))\n",
    "# output shape is (B, 10)\n",
    "\n",
    "# Initialize a, a2\n",
    "a = init_weights((625,))\n",
    "a2 = init_weights((625,))\n",
    "\n",
    "\n",
    "optimizer = RMSprop(params=[w_h, w_h2, w_o, a, a2])\n",
    "\n",
    "\n",
    "n_epochs = 100\n",
    "\n",
    "train_loss = []\n",
    "test_loss = []"
   ]
  },
  {
   "cell_type": "code",
   "execution_count": 23,
   "metadata": {},
   "outputs": [
    {
     "name": "stdout",
     "output_type": "stream",
     "text": [
      "Epoch: 0\n",
      "Mean Train Loss: 9.97e-01\n",
      "Mean Test Loss:  4.14e-01\n",
      "Epoch: 10\n",
      "Mean Train Loss: 5.94e-01\n",
      "Mean Test Loss:  2.06e-01\n",
      "Epoch: 20\n",
      "Mean Train Loss: 6.06e-01\n",
      "Mean Test Loss:  2.21e-01\n",
      "Epoch: 30\n",
      "Mean Train Loss: 5.90e-01\n",
      "Mean Test Loss:  1.93e-01\n",
      "Epoch: 40\n",
      "Mean Train Loss: 5.96e-01\n",
      "Mean Test Loss:  1.78e-01\n",
      "Epoch: 50\n",
      "Mean Train Loss: 6.07e-01\n",
      "Mean Test Loss:  1.84e-01\n",
      "Epoch: 60\n",
      "Mean Train Loss: 6.18e-01\n",
      "Mean Test Loss:  1.76e-01\n",
      "Epoch: 70\n",
      "Mean Train Loss: 6.26e-01\n",
      "Mean Test Loss:  1.77e-01\n",
      "Epoch: 80\n",
      "Mean Train Loss: 6.34e-01\n",
      "Mean Test Loss:  1.89e-01\n",
      "Epoch: 90\n",
      "Mean Train Loss: 6.48e-01\n",
      "Mean Test Loss:  1.83e-01\n",
      "Epoch: 100\n",
      "Mean Train Loss: 6.60e-01\n",
      "Mean Test Loss:  1.84e-01\n"
     ]
    },
    {
     "data": {
      "text/plain": [
       "<matplotlib.legend.Legend at 0x7f2cfcce15e0>"
      ]
     },
     "execution_count": 23,
     "metadata": {},
     "output_type": "execute_result"
    },
    {
     "data": {
      "image/png": "[encoded data removed]",
      "text/plain": [
       "<Figure size 640x480 with 1 Axes>"
      ]
     },
     "metadata": {},
     "output_type": "display_data"
    }
   ],
   "source": [
    "# put this into a training loop over 100 epochs\n",
    "for epoch in range(n_epochs + 1):\n",
    "    train_loss_this_epoch = []\n",
    "    for idx, batch in enumerate(train_dataloader):\n",
    "        x, y = batch\n",
    "\n",
    "        # our model requires flattened input\n",
    "        x = x.reshape(batch_size, 784)\n",
    "        # feed input through model\n",
    "        noise_py_x = PRelu_model(x, w_h, w_h2, w_o, a, a2, p_drop_input , p_drop_hidden )\n",
    "\n",
    "        # reset the gradient\n",
    "        optimizer.zero_grad()\n",
    "\n",
    "        # the cross-entropy loss function already contains the softmax\n",
    "        loss = cross_entropy(noise_py_x, y, reduction=\"mean\")\n",
    "\n",
    "        train_loss_this_epoch.append(float(loss))\n",
    "\n",
    "        # compute the gradient\n",
    "        loss.backward()\n",
    "        # update weights\n",
    "        optimizer.step()\n",
    "\n",
    "    train_loss.append(np.mean(train_loss_this_epoch))\n",
    "\n",
    "    # test periodically\n",
    "    if epoch % 10 == 0:\n",
    "        print(f\"Epoch: {epoch}\")\n",
    "        print(f\"Mean Train Loss: {train_loss[-1]:.2e}\")\n",
    "        test_loss_this_epoch = []\n",
    "\n",
    "        # no need to compute gradients for validation\n",
    "        with torch.no_grad():\n",
    "            for idx, batch in enumerate(test_dataloader):\n",
    "                x, y = batch\n",
    "                x = x.reshape(batch_size, 784)\n",
    "                noise_py_x = PRelu_model(x, w_h, w_h2, w_o, a, a2, 0 , 0)\n",
    "\n",
    "                loss = cross_entropy(noise_py_x, y, reduction=\"mean\")\n",
    "                test_loss_this_epoch.append(float(loss))\n",
    "\n",
    "        test_loss.append(np.mean(test_loss_this_epoch))\n",
    "\n",
    "        print(f\"Mean Test Loss:  {test_loss[-1]:.2e}\")\n",
    "\n",
    "plt.plot(np.arange(n_epochs + 1), train_loss, label=\"Train\")\n",
    "plt.plot(np.arange(1, n_epochs + 2, 10), test_loss, label=\"Test\")\n",
    "plt.title(\"Train and Test Loss over Training\")\n",
    "plt.xlabel(\"Epoch\")\n",
    "plt.ylabel(\"Loss\")\n",
    "plt.legend()"
   ]
  },
  {
   "cell_type": "markdown",
   "metadata": {},
   "source": [
    "#### Comparison of results\n",
    "In the PRelu model, you can see that the test loss is significantly lower than the training loss and also decreases with training. In addition, the loss at the end is significantly smaller than in the previous models, which is why this network performs best so far."
   ]
  },
  {
   "cell_type": "markdown",
   "metadata": {},
   "source": [
    "### 4 Convolutional layers"
   ]
  },
  {
   "cell_type": "markdown",
   "metadata": {},
   "source": [
    "![sketch of the network](ML-image4-1.png \"Sketch of the network\")"
   ]
  },
  {
   "cell_type": "markdown",
   "metadata": {},
   "source": [
    "<div style=\"color: green; font-weight:bold\"> Dropout isn't used for the first layer, which could make the network more prone to overfitting (but otherwise seems correct).</div>"
   ]
  },
  {
   "cell_type": "code",
   "execution_count": 38,
   "metadata": {},
   "outputs": [],
   "source": [
    "def cnn(x, w_c1, w_c2, w_c3, w_h2, w_o, p_drop_input):\n",
    "    # first convolutional layer\n",
    "    c1 = rectify(conv2d(x, w_c1))\n",
    "    s1 = max_pool2d(c1, (2,2) )\n",
    "    d1 = dropout (s1, p_drop_input )\n",
    "\n",
    "    # second convolutional layer\n",
    "    c2 = rectify(conv2d(d1, w_c2))\n",
    "    s2 = max_pool2d(c2, (2,2) )\n",
    "    d2 = dropout(s2, p_drop_input)\n",
    "\n",
    "    # third convolutional layer\n",
    "    c3 = rectify(conv2d(d2, w_c3))\n",
    "    s3 = max_pool2d(c3,(2,2))\n",
    "    d3 = dropout(s3, p_drop_input)\n",
    "    # flatten output\n",
    "    flat = torch.reshape(d3,(x.shape[0],128))\n",
    "    \n",
    "    h2 = rectify(flat @ w_h2)\n",
    "    pre_softmax = h2 @ w_o\n",
    "    return pre_softmax\n",
    "\n",
    "# initialize weights\n",
    "\n",
    "# weight vector first layer\n",
    "w_c1 = init_weights((32,1,5,5))\n",
    "# weight vector second layer\n",
    "w_c2 = init_weights((64,32,5,5))\n",
    "# weight vector third layer\n",
    "w_c3 = init_weights((128,64,2,2))\n",
    "# hidden layer with 625 neurons\n",
    "w_h2 = init_weights((128, 625))\n",
    "# hidden layer with 625 neurons\n",
    "w_o = init_weights((625, 10))\n",
    "# output shape is (B, 10)\n",
    "\n",
    "optimizer = RMSprop(params=[w_c1, w_c2, w_c3, w_h2, w_o])\n",
    "\n",
    "\n",
    "n_epochs = 100\n",
    "p_drop_hidden = 0.5\n",
    "\n",
    "train_loss = []\n",
    "test_loss = []"
   ]
  },
  {
   "cell_type": "markdown",
   "metadata": {},
   "source": [
    "<div style=\"color: green; font-weight:bold\"> Dropout should NOT be used for the test data! It should be exclusively used for training, we don't want the network to perform differently each time it is used!</div>"
   ]
  },
  {
   "cell_type": "markdown",
   "metadata": {},
   "source": [
    "<div style=\"color: green; font-weight:bold\">We can fix this by setting `cnn`'s last parameter to 0 when calculating the testing loss.</div>"
   ]
  },
  {
   "cell_type": "code",
   "execution_count": 39,
   "metadata": {},
   "outputs": [
    {
     "name": "stdout",
     "output_type": "stream",
     "text": [
      "Epoch: 0\n",
      "Mean Train Loss: 3.73e+00\n",
      "Mean Test Loss:  1.15e+00\n",
      "Epoch: 10\n",
      "Mean Train Loss: 3.91e-01\n",
      "Mean Test Loss:  3.61e-01\n",
      "Epoch: 20\n",
      "Mean Train Loss: 4.12e-01\n",
      "Mean Test Loss:  4.13e-01\n",
      "Epoch: 30\n",
      "Mean Train Loss: 4.41e-01\n",
      "Mean Test Loss:  4.16e-01\n",
      "Epoch: 40\n",
      "Mean Train Loss: 4.92e-01\n",
      "Mean Test Loss:  4.05e-01\n",
      "Epoch: 50\n",
      "Mean Train Loss: 5.55e-01\n",
      "Mean Test Loss:  4.90e-01\n",
      "Epoch: 60\n",
      "Mean Train Loss: 6.44e-01\n",
      "Mean Test Loss:  5.63e-01\n",
      "Epoch: 70\n",
      "Mean Train Loss: 7.34e-01\n",
      "Mean Test Loss:  6.73e-01\n",
      "Epoch: 80\n",
      "Mean Train Loss: 8.06e-01\n",
      "Mean Test Loss:  8.38e-01\n",
      "Epoch: 90\n",
      "Mean Train Loss: 9.11e-01\n",
      "Mean Test Loss:  7.40e-01\n",
      "Epoch: 100\n",
      "Mean Train Loss: 1.00e+00\n",
      "Mean Test Loss:  9.90e-01\n"
     ]
    },
    {
     "data": {
      "text/plain": [
       "<matplotlib.legend.Legend at 0x7f2cfcad4610>"
      ]
     },
     "execution_count": 39,
     "metadata": {},
     "output_type": "execute_result"
    },
    {
     "data": {
      "image/png": "[encoded data removed]",
      "text/plain": [
       "<Figure size 640x480 with 1 Axes>"
      ]
     },
     "metadata": {},
     "output_type": "display_data"
    }
   ],
   "source": [
    "# put this into a training loop over 100 epochs\n",
    "for epoch in range(n_epochs + 1):\n",
    "    train_loss_this_epoch = []\n",
    "    for idx, batch in enumerate(train_dataloader):\n",
    "        x, y = batch\n",
    "\n",
    "        # our model requires flattened input\n",
    "        trainX = x.reshape(-1, 1, 28, 28)\n",
    "        \n",
    "        # feed input through model\n",
    "        noise_py_x = cnn(trainX, w_c1, w_c2, w_c3, w_h2, w_o, p_drop_input)\n",
    "\n",
    "        # reset the gradient\n",
    "        optimizer.zero_grad()\n",
    "\n",
    "        # the cross-entropy loss function already contains the softmax\n",
    "        loss = cross_entropy(noise_py_x, y, reduction=\"mean\")\n",
    "\n",
    "        train_loss_this_epoch.append(float(loss))\n",
    "\n",
    "        # compute the gradient\n",
    "        loss.backward()\n",
    "        # update weights\n",
    "        optimizer.step()\n",
    "\n",
    "    train_loss.append(np.mean(train_loss_this_epoch))\n",
    "\n",
    "    # test periodically\n",
    "    if epoch % 10 == 0:\n",
    "        print(f\"Epoch: {epoch}\")\n",
    "        print(f\"Mean Train Loss: {train_loss[-1]:.2e}\")\n",
    "        test_loss_this_epoch = []\n",
    "\n",
    "        # no need to compute gradients for validation\n",
    "        with torch.no_grad():\n",
    "            for idx, batch in enumerate(test_dataloader):\n",
    "                x, y = batch\n",
    "\n",
    "                testX = x.reshape(-1, 1, 28, 28)\n",
    "                noise_py_x = cnn(testX, w_c1, w_c2, w_c3, w_h2, w_o, p_drop_input)\n",
    "\n",
    "                loss = cross_entropy(noise_py_x, y, reduction=\"mean\")\n",
    "                test_loss_this_epoch.append(float(loss))\n",
    "\n",
    "        test_loss.append(np.mean(test_loss_this_epoch))\n",
    "\n",
    "        print(f\"Mean Test Loss:  {test_loss[-1]:.2e}\")\n",
    "\n",
    "plt.plot(np.arange(n_epochs + 1), train_loss, label=\"Train\")\n",
    "plt.plot(np.arange(1, n_epochs + 2, 10), test_loss, label=\"Test\")\n",
    "plt.title(\"Train and Test Loss over Training\")\n",
    "plt.xlabel(\"Epoch\")\n",
    "plt.ylabel(\"Loss\")\n",
    "plt.legend()"
   ]
  },
  {
   "cell_type": "markdown",
   "metadata": {},
   "source": [
    "<div style=\"color: green; font-weight:bold\"> The filters are plotted correctly, but the original image by each filter is not plotted.</div>"
   ]
  },
  {
   "cell_type": "code",
   "execution_count": 40,
   "metadata": {},
   "outputs": [
    {
     "data": {
      "image/png": "[encoded data removed]",
      "text/plain": [
       "<Figure size 640x480 with 1 Axes>"
      ]
     },
     "metadata": {},
     "output_type": "display_data"
    }
   ],
   "source": [
    "# Plot one image from test set\n",
    "train_features, train_labels = next(iter(train_dataloader))\n",
    "img = train_features[0].squeeze()\n",
    "label = train_labels[0]\n",
    "plt.imshow(img, cmap=\"gray\")\n",
    "plt.show()"
   ]
  },
  {
   "cell_type": "code",
   "execution_count": 41,
   "metadata": {},
   "outputs": [],
   "source": [
    "# Plot its convolution with 3 filters of the first convolutional layer\n",
    "img = train_features[0]\n",
    "w_ctest = init_weights((3,1,5,5))\n",
    "ctest = conv2d(img, w_ctest)\n",
    "# output = ctest(img)\n",
    "ctest.shape\n",
    "test_img = ctest.detach().numpy()"
   ]
  },
  {
   "cell_type": "code",
   "execution_count": 42,
   "metadata": {},
   "outputs": [
    {
     "data": {
      "text/plain": [
       "<matplotlib.image.AxesImage at 0x7f2cbc754730>"
      ]
     },
     "execution_count": 42,
     "metadata": {},
     "output_type": "execute_result"
    },
    {
     "data": {
      "image/png": "[encoded data removed]",
      "text/plain": [
       "<Figure size 640x480 with 1 Axes>"
      ]
     },
     "metadata": {},
     "output_type": "display_data"
    }
   ],
   "source": [
    "test_img = np.squeeze(test_img)\n",
    "plt.imshow(test_img[0], cmap = 'gray')"
   ]
  },
  {
   "cell_type": "code",
   "execution_count": 43,
   "metadata": {},
   "outputs": [
    {
     "name": "stdout",
     "output_type": "stream",
     "text": [
      "[[[[-0.67810225  0.97867537  0.66492367 -0.11646248  0.46595022]\n",
      "   [ 0.18943213  0.9770253  -0.72156155  0.5626512   1.5680227 ]\n",
      "   [-0.18519354 -1.6848849   1.76613     0.479643   -0.21590099]\n",
      "   [-0.25114387 -0.8570907  -0.24699384  0.54163235  0.99336153]\n",
      "   [ 0.6387027   0.05763344 -1.5220566   0.9924837   0.4126329 ]]]\n",
      "\n",
      "\n",
      " [[[-0.11640145 -0.9431292  -1.0777481  -0.00817526  1.2242206 ]\n",
      "   [ 0.52382016  1.4008163   0.4469244   0.06090381  0.26371863]\n",
      "   [ 0.7907737   0.4210467   0.7458526   0.09601437  0.00492938]\n",
      "   [-0.14243819  0.00936471  1.2554494  -0.02316388 -0.89583576]\n",
      "   [-0.17129217  0.9606521  -0.6451221   0.6005609  -0.10846293]]]\n",
      "\n",
      "\n",
      " [[[-0.40593886 -0.17080286  0.22368442 -1.3172082  -1.0364534 ]\n",
      "   [-1.6450781  -0.63230824 -0.7586016   1.7907039   0.87226546]\n",
      "   [ 0.9812165  -0.89888555  0.40590292 -0.14439124  1.0327789 ]\n",
      "   [-0.3866571  -0.790099   -0.59975696  0.19325796 -1.842452  ]\n",
      "   [-0.4539635  -0.547126   -0.66236854  0.15174073  0.08576994]]]]\n"
     ]
    }
   ],
   "source": [
    "# Plot the corresponding filter weights (5 by 5 images)\n",
    "print(w_ctest.detach().numpy())"
   ]
  },
  {
   "cell_type": "code",
   "execution_count": 44,
   "metadata": {},
   "outputs": [
    {
     "data": {
      "image/png": "[encoded data removed]",
      "text/plain": [
       "<Figure size 640x480 with 4 Axes>"
      ]
     },
     "metadata": {},
     "output_type": "display_data"
    }
   ],
   "source": [
    "weight = w_ctest.detach().numpy()\n",
    "fig, (ax1, ax2, ax3) = plt.subplots(1, 3)\n",
    "im1 = ax1.imshow(weight[0,0,:,:], cmap='inferno')\n",
    "im2 = ax2.imshow(weight[1,0,:,:], cmap='inferno')\n",
    "im3 = ax3.imshow(weight[2,0,:,:], cmap='inferno')\n",
    "fig.colorbar(im2, ax=(ax1, ax2, ax3), orientation='vertical', shrink=0.5)\n",
    "plt.show()"
   ]
  },
  {
   "cell_type": "markdown",
   "metadata": {},
   "source": [
    "<div style=\"color: green; font-weight:bold\">The conclusion is wrong here since the testing loss is calculated incorrectly (as mentioned before).</div>"
   ]
  },
  {
   "cell_type": "markdown",
   "metadata": {},
   "source": [
    "### Comparison of results\n",
    "It can be seen that the network has difficulty learning as both the training and test loss increase and the test loss ends up being even worse than the original model. This is probably due to the fact that not enough training data is available for such a comparatively complex network."
   ]
  },
  {
   "cell_type": "markdown",
   "metadata": {},
   "source": [
    "### 4.2 Task: Add one convolutional layer"
   ]
  },
  {
   "cell_type": "markdown",
   "metadata": {},
   "source": [
    "<div style=\"color: green; font-weight:bold\">Same problems as mentioned before (no dropout on the first layer, incorrect testing loss).</div>"
   ]
  },
  {
   "cell_type": "code",
   "execution_count": 69,
   "metadata": {},
   "outputs": [],
   "source": [
    "def cnn2(x, w_c1, w_c2, w_c3, w_c4, w_h2, w_o, p_drop_input):\n",
    "    # first convolutional layer\n",
    "    c1 = rectify(conv2d(x, w_c1))\n",
    "    s1 = max_pool2d(c1, (2,2) )\n",
    "    d1 = dropout (s1, p_drop_input )\n",
    "\n",
    "    # second convolutional layer\n",
    "    c2 = rectify(conv2d(d1, w_c2))\n",
    "    s2 = max_pool2d(c2, (2,2) )\n",
    "    d2 = dropout(s2, p_drop_input)\n",
    "\n",
    "    # third convolutional layer\n",
    "    c3 = rectify(conv2d(d2, w_c3))\n",
    "    s3 = max_pool2d(c3,(2,2))\n",
    "    d3 = dropout(s3, p_drop_input)\n",
    "\n",
    "    # fourth convolutional layer\n",
    "    c4 = rectify(conv2d(d3, w_c4))\n",
    "    s4 = max_pool2d(c4,(1,1))\n",
    "    d4 = dropout(s4, p_drop_input)\n",
    "\n",
    "    # flatten output\n",
    "    flat = torch.reshape(d4,(x.shape[0],256))\n",
    "    \n",
    "    h2 = rectify(flat @ w_h2)\n",
    "    pre_softmax = h2 @ w_o\n",
    "    return pre_softmax\n",
    "\n",
    "# initialize weights\n",
    "\n",
    "# weight vector first layer\n",
    "w_c1 = init_weights((32,1,5,5))\n",
    "# weight vector second layer\n",
    "w_c2 = init_weights((64,32,5,5))\n",
    "# weight vector third layer\n",
    "w_c3 = init_weights((128,64,2,2))\n",
    "# weight vector fourth layer\n",
    "w_c4 = init_weights((256, 128, 1, 1))\n",
    "# hidden layer with 625 neurons\n",
    "w_h2 = init_weights((256, 625))\n",
    "# hidden layer with 625 neurons\n",
    "w_o = init_weights((625, 10))\n",
    "# output shape is (B, 10)\n",
    "\n",
    "optimizer = RMSprop(params=[w_c1, w_c2, w_c3, w_c4, w_h2, w_o])\n",
    "\n",
    "\n",
    "n_epochs = 100\n",
    "p_drop_hidden = 0.5\n",
    "\n",
    "train_loss = []\n",
    "test_loss = []"
   ]
  },
  {
   "cell_type": "code",
   "execution_count": 70,
   "metadata": {},
   "outputs": [
    {
     "name": "stdout",
     "output_type": "stream",
     "text": [
      "Epoch: 0\n",
      "Mean Train Loss: 3.57e+00\n",
      "Mean Test Loss:  1.81e+00\n",
      "Epoch: 10\n",
      "Mean Train Loss: 6.42e-01\n",
      "Mean Test Loss:  6.49e-01\n",
      "Epoch: 20\n",
      "Mean Train Loss: 5.12e-01\n",
      "Mean Test Loss:  5.10e-01\n",
      "Epoch: 30\n",
      "Mean Train Loss: 4.66e-01\n",
      "Mean Test Loss:  5.36e-01\n",
      "Epoch: 40\n",
      "Mean Train Loss: 4.54e-01\n",
      "Mean Test Loss:  4.44e-01\n",
      "Epoch: 50\n",
      "Mean Train Loss: 4.55e-01\n",
      "Mean Test Loss:  4.38e-01\n",
      "Epoch: 60\n",
      "Mean Train Loss: 4.71e-01\n",
      "Mean Test Loss:  4.24e-01\n",
      "Epoch: 70\n",
      "Mean Train Loss: 4.83e-01\n",
      "Mean Test Loss:  4.34e-01\n",
      "Epoch: 80\n",
      "Mean Train Loss: 5.32e-01\n",
      "Mean Test Loss:  4.55e-01\n",
      "Epoch: 90\n",
      "Mean Train Loss: 6.05e-01\n",
      "Mean Test Loss:  5.71e-01\n",
      "Epoch: 100\n",
      "Mean Train Loss: 6.84e-01\n",
      "Mean Test Loss:  6.06e-01\n"
     ]
    },
    {
     "data": {
      "text/plain": [
       "<matplotlib.legend.Legend at 0x7f2cabff9a60>"
      ]
     },
     "execution_count": 70,
     "metadata": {},
     "output_type": "execute_result"
    },
    {
     "data": {
      "image/png": "[encoded data removed]",
      "text/plain": [
       "<Figure size 640x480 with 1 Axes>"
      ]
     },
     "metadata": {},
     "output_type": "display_data"
    }
   ],
   "source": [
    "# put this into a training loop over 100 epochs\n",
    "for epoch in range(n_epochs + 1):\n",
    "    train_loss_this_epoch = []\n",
    "    for idx, batch in enumerate(train_dataloader):\n",
    "        x, y = batch\n",
    "\n",
    "        # our model requires flattened input\n",
    "        trainX = x.reshape(-1, 1, 28, 28)\n",
    "        \n",
    "        # feed input through model\n",
    "        noise_py_x = cnn2(trainX, w_c1, w_c2, w_c3, w_c4, w_h2, w_o, p_drop_input)\n",
    "\n",
    "        # reset the gradient\n",
    "        optimizer.zero_grad()\n",
    "\n",
    "        # the cross-entropy loss function already contains the softmax\n",
    "        loss = cross_entropy(noise_py_x, y, reduction=\"mean\")\n",
    "\n",
    "        train_loss_this_epoch.append(float(loss))\n",
    "\n",
    "        # compute the gradient\n",
    "        loss.backward()\n",
    "        # update weights\n",
    "        optimizer.step()\n",
    "\n",
    "    train_loss.append(np.mean(train_loss_this_epoch))\n",
    "\n",
    "    # test periodically\n",
    "    if epoch % 10 == 0:\n",
    "        print(f\"Epoch: {epoch}\")\n",
    "        print(f\"Mean Train Loss: {train_loss[-1]:.2e}\")\n",
    "        test_loss_this_epoch = []\n",
    "\n",
    "        # no need to compute gradients for validation\n",
    "        with torch.no_grad():\n",
    "            for idx, batch in enumerate(test_dataloader):\n",
    "                x, y = batch\n",
    "\n",
    "                testX = x.reshape(-1, 1, 28, 28)\n",
    "                noise_py_x = cnn2(testX, w_c1, w_c2, w_c3, w_c4, w_h2, w_o, p_drop_input)\n",
    "\n",
    "                loss = cross_entropy(noise_py_x, y, reduction=\"mean\")\n",
    "                test_loss_this_epoch.append(float(loss))\n",
    "\n",
    "        test_loss.append(np.mean(test_loss_this_epoch))\n",
    "\n",
    "        print(f\"Mean Test Loss:  {test_loss[-1]:.2e}\")\n",
    "\n",
    "plt.plot(np.arange(n_epochs + 1), train_loss, label=\"Train\")\n",
    "plt.plot(np.arange(1, n_epochs + 2, 10), test_loss, label=\"Test\")\n",
    "plt.title(\"Train and Test Loss over Training\")\n",
    "plt.xlabel(\"Epoch\")\n",
    "plt.ylabel(\"Loss\")\n",
    "plt.legend()"
   ]
  },
  {
   "cell_type": "markdown",
   "metadata": {},
   "source": [
    "### Comparison of results\n",
    "As with the CNN before, the loss for testing and training increases again at the end. In the end, the network performs about as well as the dropout model."
   ]
  },
  {
   "cell_type": "markdown",
   "metadata": {},
   "source": [
    "### Overview table test errors from all sections\n",
    "| Model | Test error | \n",
    "| ----- | ---------- |\n",
    "| model | 0.913|\n",
    "| dropout model | 0.663 |\n",
    "| Prelu model | 0.184 |\n",
    "| CNN | 0.990 |\n",
    "| Adjusted CNN | 0.606 |\n",
    "\n",
    "According to this execution the model with a parametric Relu and dropout performs best."
   ]
  }
 ],
 "metadata": {
  "kernelspec": {
   "display_name": "Python 3 (ipykernel)",
   "language": "python",
   "name": "python3"
  },
  "language_info": {
   "codemirror_mode": {
    "name": "ipython",
    "version": 3
   },
   "file_extension": ".py",
   "mimetype": "text/x-python",
   "name": "python",
   "nbconvert_exporter": "python",
   "pygments_lexer": "ipython3",
   "version": "3.11.3"
  },
  "vscode": {
   "interpreter": {
    "hash": "bfd65f0aea61c9e38841a066338400a9be6b13442727d2d591ff163caf50e0ac"
   }
  }
 },
 "nbformat": 4,
 "nbformat_minor": 2
}
