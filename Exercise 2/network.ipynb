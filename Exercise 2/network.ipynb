{
 "cells": [
  {
   "cell_type": "code",
   "execution_count": 12,
   "metadata": {},
   "outputs": [],
   "source": [
    "import numpy as np\n",
    "from sklearn import datasets"
   ]
  },
  {
   "attachments": {},
   "cell_type": "markdown",
   "metadata": {},
   "source": [
    "## Exercise 3: Programming a Neural Network"
   ]
  },
  {
   "cell_type": "code",
   "execution_count": 13,
   "metadata": {},
   "outputs": [],
   "source": [
    "# code copied from provided file 'network.py'"
   ]
  },
  {
   "cell_type": "code",
   "execution_count": 14,
   "metadata": {},
   "outputs": [],
   "source": [
    "class ReLULayer(object):\n",
    "    def forward(self, input):\n",
    "        # remember the input for later backpropagation\n",
    "        self.input = input\n",
    "        # return the ReLU of the input\n",
    "        # relu_fct = lambda x: x if x > 0 else 0\n",
    "        # relu = np.vectorize(relu_fct)(input)\n",
    "        # return relu \n",
    "        return np.maximum(0.0, input )\n",
    "\n",
    "    def backward(self, upstream_gradient):\n",
    "        # compute the derivative of ReLU from upstream_gradient and the stored input\n",
    "\n",
    "        # TODO: vectorize\n",
    "        # batch_size = upstream_gradient.shape[0]   \n",
    "        # downstream_gradient = np.array([upstream_gradient[i] @ np.diag(np.where(self.input[i] >= 0, 1, 0)) for i in range(batch_size)])\n",
    "        # return downstream_gradient \n",
    "        # diagonal = np.where(self.input >= 0, 1, 0)\n",
    "        # downstream_gradient = upstream_gradient @ np.diag(diagonal)\n",
    "        # print(f\"ReLU Shapes: {upstream_gradient.shape}, {diagonal.shape}, {np.diag(diagonal).shape}\")\n",
    "        \n",
    "        return self.input * (self.input>0) * (upstream_gradient > 0)\n",
    "\n",
    "    def update(self, learning_rate):\n",
    "        pass # ReLU is parameter-free"
   ]
  },
  {
   "cell_type": "code",
   "execution_count": 15,
   "metadata": {},
   "outputs": [],
   "source": [
    "class OutputLayer(object):\n",
    "    def __init__(self, n_classes):\n",
    "        self.n_classes = n_classes\n",
    "\n",
    "    def forward(self, input):\n",
    "        # remember the input for later backpropagation\n",
    "        self.input = input\n",
    "        # return the softmax of the input\n",
    "\n",
    "        # TODO: vectorize\n",
    "        softmax_prenormalized = np.exp(self.input)\n",
    "        softmax = np.array([row / np.sum(row) for row in softmax_prenormalized])\n",
    "        return softmax\n",
    "\n",
    "    def backward(self, predicted_posteriors, true_labels):\n",
    "        # return the loss derivative with respect to the stored inputs\n",
    "        # (use cross-entropy loss and the chain rule for softmax,\n",
    "        #  as derived in the lecture)\n",
    "        # TODO: vectorize\n",
    "        downstream_gradient = predicted_posteriors.copy()\n",
    "        for i, k in enumerate(true_labels):\n",
    "            # print(downstream_gradient[i, k])\n",
    "            downstream_gradient[i, k] -= 1\n",
    "            # print(downstream_gradient[i, k])\n",
    "\n",
    "\n",
    "\n",
    "        return downstream_gradient\n",
    "        # predicted_posteriors[:,-1] = (-1/ predicted_posteriors[:,0]) * (predicted_posteriors[:,-1] == np.float32(true_labels))\n",
    "        # return predicted_posteriors\n",
    "\n",
    "    def update(self, learning_rate):\n",
    "        pass # softmax is parameter-free"
   ]
  },
  {
   "cell_type": "code",
   "execution_count": 16,
   "metadata": {},
   "outputs": [],
   "source": [
    "class LinearLayer(object):\n",
    "    def __init__(self, n_inputs, n_outputs):\n",
    "        self.n_inputs  = n_inputs\n",
    "        self.n_outputs = n_outputs\n",
    "        # randomly initialize weights and intercepts\n",
    "        self.B = np.random.normal(0, 1, (n_inputs, n_outputs))\n",
    "        self.b = np.random.normal(0, 1, n_outputs)\n",
    "\n",
    "    def forward(self, input):\n",
    "        # remember the input for later backpropagation\n",
    "        self.input = input\n",
    "        # compute the scalar product of input and weights\n",
    "        # (these are the preactivations for the subsequent non-linear layer)\n",
    "        preactivations = input@self.B + self.b\n",
    "        return preactivations\n",
    "\n",
    "    def backward(self, upstream_gradient):\n",
    "        # compute the derivative of the weights from\n",
    "        # upstream_gradient and the stored input\n",
    "        self.grad_b = np.sum(upstream_gradient, axis=0)\n",
    "        self.grad_B = self.input.T @ upstream_gradient\n",
    "        # print(f\"Gradient shapes: {self.grad_B.shape}, {self.grad_b.shape}\")\n",
    "        # compute the downstream gradient to be passed to the preceding layer\n",
    "        # print(f\"Lin  Shapes: {upstream_gradient.shape}, {self.B.T.shape}\")\n",
    "        downstream_gradient = upstream_gradient @ self.B.T\n",
    "        return downstream_gradient\n",
    "\n",
    "    def update(self, learning_rate):\n",
    "        # update the weights by batch gradient descent\n",
    "        self.B = self.B - learning_rate * self.grad_B\n",
    "        self.b = self.b - learning_rate * self.grad_b"
   ]
  },
  {
   "cell_type": "code",
   "execution_count": 17,
   "metadata": {},
   "outputs": [],
   "source": [
    "class MLP(object):\n",
    "    def __init__(self, n_features, layer_sizes):\n",
    "        # construct a multi-layer perceptron\n",
    "        # with ReLU activation in the hidden layers and softmax output\n",
    "        # (i.e. it predicts the posterior probability of a classification problem)\n",
    "        #\n",
    "        # n_features: number of inputs\n",
    "        # len(layer_sizes): number of layers\n",
    "        # layer_sizes[k]: number of neurons in layer k\n",
    "        # (specifically: layer_sizes[-1] is the number of classes)\n",
    "        self.n_layers = len(layer_sizes)\n",
    "        self.layers   = []\n",
    "\n",
    "        # create interior layers (linear + ReLU)\n",
    "        n_in = n_features\n",
    "        for n_out in layer_sizes[:-1]:\n",
    "            self.layers.append(LinearLayer(n_in, n_out))\n",
    "            self.layers.append(ReLULayer())\n",
    "            n_in = n_out\n",
    "\n",
    "        # create last linear layer + output layer\n",
    "        n_out = layer_sizes[-1]\n",
    "        self.layers.append(LinearLayer(n_in, n_out))\n",
    "        self.layers.append(OutputLayer(n_out))\n",
    "\n",
    "    def forward(self, X):\n",
    "        # X is a mini-batch of instances\n",
    "        batch_size = X.shape[0]\n",
    "        # flatten the other dimensions of X (in case instances are images)\n",
    "        X = X.reshape(batch_size, -1)\n",
    "\n",
    "        # compute the forward pass\n",
    "        # (implicitly stores internal activations for later backpropagation)\n",
    "        result = X\n",
    "        for layer in self.layers:\n",
    "            result = layer.forward(result)\n",
    "        return result\n",
    "\n",
    "    def backward(self, predicted_posteriors, true_classes):\n",
    "        # perform backpropagation w.r.t. the prediction for the latest mini-batch X\n",
    "        downstream_gradient = self.layers[-1].backward(predicted_posteriors, true_classes)\n",
    "\n",
    "        for i, layer in enumerate(reversed(self.layers[:-1])):\n",
    "            # print(f\"Step {i}\")\n",
    "            downstream_gradient = layer.backward(downstream_gradient)\n",
    "\n",
    "\n",
    "    def update(self, X, Y, learning_rate):\n",
    "        posteriors = self.forward(X)\n",
    "        self.backward(posteriors, Y)\n",
    "        for layer in self.layers:\n",
    "            layer.update(learning_rate)\n",
    "\n",
    "    def train(self, x, y, n_epochs, batch_size, learning_rate):\n",
    "        N = len(x)\n",
    "        n_batches = N // batch_size\n",
    "        for i in range(n_epochs):\n",
    "            # print(\"Epoch\", i)\n",
    "            # reorder data for every epoch\n",
    "            # (i.e. sample mini-batches without replacement)\n",
    "            permutation = np.random.permutation(N)\n",
    "\n",
    "            for batch in range(n_batches):\n",
    "                # create mini-batch\n",
    "                start = batch * batch_size\n",
    "                x_batch = x[permutation[start:start+batch_size]]\n",
    "                y_batch = y[permutation[start:start+batch_size]]\n",
    "\n",
    "                # perform one forward and backward pass and update network parameters\n",
    "                self.update(x_batch, y_batch, learning_rate)"
   ]
  },
  {
   "cell_type": "code",
   "execution_count": 18,
   "metadata": {},
   "outputs": [],
   "source": [
    "# set training/test set size\n",
    "N = 2000\n",
    "\n",
    "# create training and test data\n",
    "X_train, Y_train = datasets.make_moons(N, noise=0.05)\n",
    "X_test,  Y_test  = datasets.make_moons(N, noise=0.05)\n",
    "n_features = 2\n",
    "n_classes  = 2\n",
    "\n",
    "# standardize features to be in [-1, 1]\n",
    "offset  = X_train.min(axis=0)\n",
    "scaling = X_train.max(axis=0) - offset\n",
    "X_train = ((X_train - offset) / scaling - 0.5) * 2.0\n",
    "X_test  = ((X_test  - offset) / scaling - 0.5) * 2.0"
   ]
  },
  {
   "cell_type": "code",
   "execution_count": 19,
   "metadata": {},
   "outputs": [],
   "source": [
    "# set hyperparameters (play with these!)\n",
    "layer_sizes = [30, 30, n_classes]\n",
    "n_epochs = 30\n",
    "batch_size = 20\n",
    "learning_rate = 0.05"
   ]
  },
  {
   "cell_type": "code",
   "execution_count": 20,
   "metadata": {},
   "outputs": [],
   "source": [
    "# create network\n",
    "network = MLP(n_features, layer_sizes)"
   ]
  },
  {
   "cell_type": "code",
   "execution_count": 21,
   "metadata": {},
   "outputs": [],
   "source": [
    "# train\n",
    "network.train(X_train, Y_train, n_epochs, batch_size, learning_rate)"
   ]
  },
  {
   "cell_type": "code",
   "execution_count": 22,
   "metadata": {},
   "outputs": [
    {
     "name": "stdout",
     "output_type": "stream",
     "text": [
      "error rate: 0.143\n"
     ]
    }
   ],
   "source": [
    "# test\n",
    "predicted_posteriors = network.forward(X_test)\n",
    "# determine class predictions from posteriors by winner-takes-all rule\n",
    "predicted_classes = np.argmax(predicted_posteriors, axis=1)\n",
    "# compute and output the error rate of predicted_classes\n",
    "error_rate = np.sum(Y_test != predicted_classes) / N\n",
    "print(\"error rate:\", error_rate)"
   ]
  },
  {
   "cell_type": "code",
   "execution_count": null,
   "metadata": {},
   "outputs": [],
   "source": []
  }
 ],
 "metadata": {
  "kernelspec": {
   "display_name": "Python 3",
   "language": "python",
   "name": "python3"
  },
  "language_info": {
   "codemirror_mode": {
    "name": "ipython",
    "version": 3
   },
   "file_extension": ".py",
   "mimetype": "text/x-python",
   "name": "python",
   "nbconvert_exporter": "python",
   "pygments_lexer": "ipython3",
   "version": "3.9.13"
  },
  "orig_nbformat": 4
 },
 "nbformat": 4,
 "nbformat_minor": 2
}
