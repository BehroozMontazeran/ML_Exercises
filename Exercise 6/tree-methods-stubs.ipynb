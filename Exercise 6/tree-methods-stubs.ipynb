{
 "cells": [
  {
   "cell_type": "code",
   "execution_count": 1,
   "metadata": {},
   "outputs": [],
   "source": [
    "from __future__ import annotations\n",
    "\n",
    "import numpy as np\n",
    "from sklearn.datasets import load_digits\n",
    "from scipy import stats\n",
    "\n",
    "from abc import abstractmethod\n",
    "from dataclasses import dataclass\n",
    "from typing import *"
   ]
  },
  {
   "cell_type": "markdown",
   "metadata": {},
   "source": [
    "# Base Classes"
   ]
  },
  {
   "cell_type": "code",
   "execution_count": 2,
   "metadata": {},
   "outputs": [],
   "source": [
    "\"\"\"Note: we rewrote some stuff so the code is readable.\"\"\"\n",
    "\n",
    "@dataclass\n",
    "class Node:\n",
    "    features: np.ndarray\n",
    "    responses: np.ndarray\n",
    "        \n",
    "    # for children\n",
    "    left: Optional[Node] = None\n",
    "    right: Optional[Node] = None\n",
    "    split_index: int = -1\n",
    "    threshold: float = 0\n",
    "        \n",
    "    # for leafs\n",
    "    prediction: Optional[Any] = None\n",
    "\n",
    "\n",
    "class Tree:\n",
    "    def __init__(self, n_min=10):\n",
    "        \"\"\"\n",
    "        n_min: minimum required number of instances in leaf nodes\n",
    "        \"\"\"\n",
    "        self.n_min = n_min\n",
    "    \n",
    "    def predict(self, x):\n",
    "        \"\"\"Return the prediction for the given 1-D feature vector x.\"\"\"\n",
    "        \n",
    "        # find the leaf containing the 1-D feature vector x\n",
    "        node = self.root\n",
    "        while node.prediction is None:\n",
    "            j = node.split_index\n",
    "            if x[j] <= node.threshold:\n",
    "                node = node.left\n",
    "            else:\n",
    "                node = node.right\n",
    "                \n",
    "        # return the leaf's prediction\n",
    "        return node.prediction\n",
    "        \n",
    "    def train(self, features, responses, D_try=None):\n",
    "        \"\"\"\n",
    "        features: the feature matrix of the training set\n",
    "        response: the vector of responses\n",
    "        \"\"\"\n",
    "        N, D = features.shape\n",
    "        assert(responses.shape[0] == N)\n",
    "\n",
    "        # number of features to consider for each split decision\n",
    "        if D_try is None:\n",
    "            D_try = int(np.sqrt(D))\n",
    "        \n",
    "        # initialize the root node\n",
    "        self.root = Node(features, responses)\n",
    "\n",
    "        # build the tree\n",
    "        stack = [self.root]\n",
    "        while len(stack):\n",
    "            node = stack.pop()\n",
    "            \n",
    "            # attempt to split the node\n",
    "            active_indices = self.select_active_indices(D, D_try)\n",
    "            children = self.attempt_split_node(node, active_indices)\n",
    "            \n",
    "            # if not successful, it's a leaf\n",
    "            if children is None:\n",
    "                self.make_leaf_node(node)\n",
    "            else:\n",
    "                l, r = children\n",
    "                \n",
    "                stack.append(l)\n",
    "                stack.append(r)\n",
    "    \n",
    "    def attempt_split_node(self, node: Node, indices: np.ndarray) -> Optional[Tuple[Node, Node]]:\n",
    "        \"\"\"\n",
    "        node: the node to be split\n",
    "        indices: a numpy array containing the feature indices to be considered for the present split\n",
    "                         \n",
    "        return: left, right as the children of the split or None if no suitable split exists.\n",
    "        \"\"\"\n",
    "        # all responses equal => no improvement possible by any split\n",
    "        if np.unique(node.responses).shape[0] == 1:\n",
    "            return None\n",
    "        \n",
    "        # find best feature j_min (among 'indices') and best threshold t_min for the split\n",
    "        l_min = float('inf')  # upper bound for the loss, later the loss of the best split\n",
    "        j_min, t_min = None, None\n",
    "\n",
    "        for j in indices:\n",
    "            thresholds = self.find_thresholds(node, j)\n",
    "\n",
    "            # compute loss for each threshold\n",
    "            for t in thresholds:\n",
    "                loss = self.compute_loss_for_split(node, j, t)\n",
    "\n",
    "                # remember the best split so far \n",
    "                # (the condition is never True when loss = float('inf') )\n",
    "                if loss < l_min:\n",
    "                    l_min = loss\n",
    "                    j_min = j\n",
    "                    t_min = t\n",
    "\n",
    "        # no split found\n",
    "        if j_min is None:\n",
    "            return None\n",
    "\n",
    "        # else we get the children\n",
    "        left, right = self.make_children(node, j_min, t_min)\n",
    "        \n",
    "        # and split this node\n",
    "        node.left = left\n",
    "        node.right = right\n",
    "        node.split_index = j_min\n",
    "        node.threshold = t_min\n",
    "        \n",
    "        return left, right\n",
    "    \n",
    "    def select_active_indices(self, D: int, D_try: int) -> np.ndarray:\n",
    "        \"\"\"Return a 1-D array with D_try randomly selected indices from 0...(D-1).\"\"\"\n",
    "        return np.random.choice(D, D_try, replace=False)\n",
    "        \n",
    "    def find_thresholds(self, node: Node, j: int) -> np.ndarray:\n",
    "        \"\"\"Return a 1-D array with all possible thresholds along feature j.\"\"\"\n",
    "        # convolve just acts as an average over a sliding window of size 2 (i.e. midpoints)\n",
    "        midpoints = np.convolve(sorted(node.features[:,j]), [0.5, 0.5], mode='valid')\n",
    "        \n",
    "        # we're only interested in the unique ones\n",
    "        return np.unique(midpoints)\n",
    "        \n",
    "    def make_children(self, node: Node, j: int, t: float) -> Tuple[Node, Node]:\n",
    "        \"\"\"Get the children of the node on feature j and threshold t.\"\"\"\n",
    "        \n",
    "        # TODO: vectorize this\n",
    "        idx = node.features[:,j] <= t\n",
    "        not_idx = node.features[:,j] > t\n",
    "        \n",
    "        left = Node(\n",
    "            node.features[node.features[:,j] <= t],\n",
    "            node.responses[idx],\n",
    "        )\n",
    "        \n",
    "        right = Node(\n",
    "            node.features[not_idx],\n",
    "            node.responses[not_idx],\n",
    "        )\n",
    "        \n",
    "        return left, right\n",
    "        \n",
    "    @abstractmethod\n",
    "    def make_leaf_node(self, node: Node):\n",
    "        \"\"\"Turn node into a leaf by computing and setting `node.prediction`\"\"\"\n",
    "        raise NotImplementedError(\"make_leaf_node() must be implemented in a subclass.\")\n",
    "        \n",
    "    @abstractmethod\n",
    "    def compute_loss_for_split(self, node, j, t):\n",
    "        \"\"\"Return the resulting loss when the data are split along feature j at threshold t.\n",
    "        If the split is not admissible, return float('inf').\"\"\"\n",
    "        raise NotImplementedError(\"compute_loss_for_split() must be implemented in a subclass.\")"
   ]
  },
  {
   "cell_type": "markdown",
   "metadata": {},
   "source": [
    "# Regression Tree"
   ]
  },
  {
   "cell_type": "code",
   "execution_count": 3,
   "metadata": {},
   "outputs": [],
   "source": [
    "class RegressionTree(Tree):\n",
    "    def __init__(self, n_min=10):\n",
    "        super().__init__(n_min)\n",
    "        \n",
    "    def compute_loss_for_split(self, node, j, t):\n",
    "        # return the loss if we would split the instance along feature j at threshold t\n",
    "        # or float('inf') if there is no feasible split\n",
    "        ... # your code here\n",
    "        raise NotImplementedError(\"compute_loss_for_split(): remove this exception after adding your code above.\")\n",
    "        \n",
    "    def make_leaf_node(self, node):\n",
    "        # turn node into a leaf node by computing `node.prediction`\n",
    "        # (note: the prediction of a regression tree is a real number)\n",
    "        node.prediction = ... # your code here\n",
    "        raise NotImplementedError(\"make_leaf_node(): remove this exception after adding your code above.\")\n"
   ]
  },
  {
   "cell_type": "markdown",
   "metadata": {},
   "source": [
    "# Classification Tree"
   ]
  },
  {
   "cell_type": "code",
   "execution_count": 4,
   "metadata": {
    "tags": []
   },
   "outputs": [],
   "source": [
    "from enum import Enum\n",
    "\n",
    "\n",
    "class ClassificationLossMethod(Enum):\n",
    "    C4D5 = 1\n",
    "    CART = 2\n",
    "    \n",
    "class ClassificationTree(Tree):\n",
    "    \n",
    "    def __init__(self, classes, n_min=10, loss_method = ClassificationLossMethod.C4D5):\n",
    "        \"\"\"\n",
    "        classes: a 1-D array with the permitted class labels\n",
    "        n_min: minimum required number of instances in leaf nodes\n",
    "        \"\"\"\n",
    "        super().__init__(n_min)\n",
    "        self.classes = classes\n",
    "        self.loss_method = self.c4d5 if loss_method == ClassificationLossMethod.C4D5 else self.cart\n",
    "\n",
    "    def c4d5(self, node):\n",
    "        if len(node.responses) == 0:\n",
    "            return float('inf')\n",
    "\n",
    "        total = 0\n",
    "        for k in self.classes:\n",
    "            nz = np.count_nonzero(node.responses == k)\n",
    "\n",
    "            if nz == 0:\n",
    "                continue\n",
    "\n",
    "            p_mk = nz / len(node.responses)\n",
    "            total += p_mk * np.log(p_mk)\n",
    "        return total\n",
    "\n",
    "\n",
    "    def cart(self, node):\n",
    "        if len(node.responses) == 0:\n",
    "            return float('inf')\n",
    "\n",
    "        total = 0\n",
    "        for k in self.classes:\n",
    "            nz = np.count_nonzero(node.responses == k)\n",
    "\n",
    "            if nz == 0:\n",
    "                continue\n",
    "\n",
    "            p_mk = nz / len(node.responses)\n",
    "\n",
    "            total += p_mk ** 2\n",
    "        return 1 - total\n",
    "                \n",
    "    def compute_loss_for_split(self, node, j, t):\n",
    "        left, right = self.make_children(node, j, t)\n",
    "                    \n",
    "        return len(left.responses) * self.loss_method(left) \\\n",
    "             + len(right.responses) * self.loss_method(right)\n",
    "        \n",
    "    def make_leaf_node(self, node):\n",
    "        \"\"\"Turn node into a leaf node by computing `node.prediction`.\"\"\"\n",
    "        node.prediction = stats.mode(node.responses, keepdims=True).mode[0]      "
   ]
  },
  {
   "cell_type": "markdown",
   "metadata": {},
   "source": [
    "# Evaluation of Regression and Classification Tree"
   ]
  },
  {
   "cell_type": "code",
   "execution_count": 5,
   "metadata": {
    "tags": []
   },
   "outputs": [
    {
     "name": "stdout",
     "output_type": "stream",
     "text": [
      "(1797, 64) (1797,)\n"
     ]
    }
   ],
   "source": [
    "# read and prepare the digits data and extract 3s and 9s\n",
    "digits = load_digits()\n",
    "print(digits.data.shape, digits.target.shape)\n",
    "\n",
    "instances = (digits.target == 3) | (digits.target == 9)\n",
    "features = digits.data[instances, :]\n",
    "labels = digits.target[instances]\n",
    "\n",
    "# for regression, we use labels +1 and -1\n",
    "responses = np.array([1 if l == 3 else -1 for l in labels])\n",
    "\n",
    "assert(features.shape[0] == labels.shape[0] == responses.shape[0])"
   ]
  },
  {
   "cell_type": "code",
   "execution_count": 6,
   "metadata": {
    "tags": []
   },
   "outputs": [
    {
     "data": {
      "image/png": "[encoded data removed]",
      "text/plain": [
       "<Figure size 640x480 with 1 Axes>"
      ]
     },
     "metadata": {},
     "output_type": "display_data"
    }
   ],
   "source": [
    "# perform 5-fold cross-validation with labels 3 and 9\n",
    "from sklearn.model_selection import KFold\n",
    "import matplotlib.pyplot as plt\n",
    "\n",
    "\n",
    "def error(y, y_hat):\n",
    "    count = 0\n",
    "    for k1, k2 in zip(y, y_hat):\n",
    "        if k1 != k2:\n",
    "            count += 1\n",
    "    \n",
    "    return count / len(y)\n",
    "\n",
    "\n",
    "train_errors = []\n",
    "test_errors = []\n",
    "for D_try in range(1, 10):\n",
    "    train_errors.append([])\n",
    "    test_errors.append([])\n",
    "    \n",
    "    for train_i, test_i in KFold(n_splits=5).split(features):\n",
    "        Xtr = features[train_i]\n",
    "        ytr = labels[train_i]\n",
    "\n",
    "        Xte = features[test_i]\n",
    "        yte = labels[test_i]\n",
    "\n",
    "        # our train/error\n",
    "        tree = ClassificationTree([3, 9])\n",
    "        tree.train(Xtr, ytr, D_try=D_try)\n",
    "        \n",
    "        train_errors[-1].append(error(ytr, map(tree.predict, Xtr)))\n",
    "        test_errors[-1].append(error(yte, map(tree.predict, Xte)))\n",
    "        \n",
    "plt.errorbar(\n",
    "    np.arange(len(train_errors)) + 1,\n",
    "    np.average(train_errors, axis=1),\n",
    "    np.std(train_errors, axis=1),\n",
    ")\n",
    "       \n",
    "plt.errorbar(\n",
    "    np.arange(len(test_errors)) + 1,\n",
    "    np.average(test_errors, axis=1),\n",
    "    np.std(test_errors, axis=1),\n",
    ")\n",
    "\n",
    "plt.show()"
   ]
  },
  {
   "cell_type": "code",
   "execution_count": 7,
   "metadata": {},
   "outputs": [],
   "source": [
    "# perform 5-fold cross-validation (see ex01) with responses +1 and -1 (for 3s and 9s)"
   ]
  },
  {
   "cell_type": "markdown",
   "metadata": {},
   "source": [
    "# Regression and Classification Forest"
   ]
  },
  {
   "cell_type": "code",
   "execution_count": null,
   "metadata": {},
   "outputs": [],
   "source": [
    "def bootstrap_sampling(features, responses):\n",
    "    '''return a bootstrap sample of features and responses\n",
    "    '''\n",
    "    ... # your code here\n",
    "    raise NotImplementedError(\"bootstrap_sampling(): remove this exception after adding your code above.\")"
   ]
  },
  {
   "cell_type": "code",
   "execution_count": null,
   "metadata": {
    "tags": []
   },
   "outputs": [],
   "source": [
    "class RegressionForest():\n",
    "    def __init__(self, n_trees, n_min=10):\n",
    "        # create ensemble\n",
    "        self.trees = [RegressionTree(n_min) for i in range(n_trees)]\n",
    "    \n",
    "    def train(self, features, responses):\n",
    "        for tree in self.trees:\n",
    "            boostrap_features, bootstrap_responses = bootstrap_sampling(features, responses)\n",
    "            tree.train(boostrap_features, bootstrap_responses)\n",
    "\n",
    "    def predict(self, x):\n",
    "        # compute the response of the ensemble from the individual responses and return it\n",
    "        ... # your code here\n",
    "        raise NotImplementedError(\"predict(): remove this exception after adding your code above.\")"
   ]
  },
  {
   "cell_type": "code",
   "execution_count": null,
   "metadata": {
    "tags": []
   },
   "outputs": [],
   "source": [
    "class ClassificationForest():\n",
    "    def __init__(self, n_trees, classes, n_min=1):\n",
    "        self.trees = [ClassificationTree(classes, n_min) for i in range(n_trees)]\n",
    "        self.classes = classes\n",
    "    \n",
    "    def train(self, features, responses):\n",
    "        for tree in self.trees:\n",
    "            boostrap_features, bootstrap_responses = bootstrap_sampling(features, responses)\n",
    "            tree.train(boostrap_features, bootstrap_responses)\n",
    "\n",
    "    def predict(self, x):\n",
    "        # compute the response of the ensemble from the individual responses and return it\n",
    "        ... # your code here\n",
    "        raise NotImplementedError(\"predict(): remove this exception after adding your code above.\")"
   ]
  },
  {
   "cell_type": "markdown",
   "metadata": {},
   "source": [
    "# Evaluation of Regression and Decision Forest"
   ]
  },
  {
   "cell_type": "code",
   "execution_count": null,
   "metadata": {
    "tags": []
   },
   "outputs": [],
   "source": [
    "# perform 5-fold cross-validation (see ex01) with responses +1 and -1 (for 3s and 9s)\n",
    "# using RegressionForest(n_trees=10)\n",
    "# and comment on your results\n",
    "... # your code here"
   ]
  },
  {
   "cell_type": "code",
   "execution_count": null,
   "metadata": {},
   "outputs": [],
   "source": [
    "# perform 5-fold cross-validation with labels 3 and 9\n",
    "# using DecisionForest(n_trees=10, classes=np.unique(labels))\n",
    "# and comment on your results\n",
    "... # your code here"
   ]
  },
  {
   "cell_type": "markdown",
   "metadata": {},
   "source": [
    "# Multi-class Classification Forest"
   ]
  },
  {
   "cell_type": "code",
   "execution_count": null,
   "metadata": {},
   "outputs": [],
   "source": [
    "# Train DecisionForest(n_trees=10, classes=np.unique(digits.target))\n",
    "# for all 10 digits simultaneously.\n",
    "# Compute and plot the confusion matrix after 5-fold cross-validation and comment on your results.\n",
    "... # your code here"
   ]
  },
  {
   "cell_type": "markdown",
   "metadata": {},
   "source": [
    "# One-against-the-rest classification with RegressionForest"
   ]
  },
  {
   "cell_type": "code",
   "execution_count": null,
   "metadata": {},
   "outputs": [],
   "source": [
    "# Train ten one-against-the-rest regression forests for the 10 digits.\n",
    "# Make sure that all training sets are balanced between the current digit and the rest.\n",
    "# Assign test instances to the digit with highest score, \n",
    "# or to \"unknown\" if all scores are negative.\n",
    "# Compute and plot the confusion matrix after 5-fold cross-validation and comment on your results.\n",
    "... # your code here"
   ]
  }
 ],
 "metadata": {
  "kernelspec": {
   "display_name": "Python 3 (ipykernel)",
   "language": "python",
   "name": "python3"
  },
  "language_info": {
   "codemirror_mode": {
    "name": "ipython",
    "version": 3
   },
   "file_extension": ".py",
   "mimetype": "text/x-python",
   "name": "python",
   "nbconvert_exporter": "python",
   "pygments_lexer": "ipython3",
   "version": "3.11.3"
  }
 },
 "nbformat": 4,
 "nbformat_minor": 4
}
