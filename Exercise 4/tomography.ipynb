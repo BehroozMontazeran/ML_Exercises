{
 "cells": [
  {
   "cell_type": "markdown",
   "id": "b1c62603",
   "metadata": {},
   "source": [
    "# Tomography"
   ]
  },
  {
   "cell_type": "code",
   "execution_count": 1,
   "id": "64255521",
   "metadata": {},
   "outputs": [],
   "source": [
    "import numpy as np\n",
    "import scipy\n",
    "import matplotlib.pyplot as plt"
   ]
  },
  {
   "cell_type": "markdown",
   "id": "9992487a",
   "metadata": {},
   "source": [
    "## 0) Loading the data\n",
    "\n",
    "To solve the task, we first need to load the list of angles and the measured sensor data (and define $M$ so we have all required information to solve the problem)."
   ]
  },
  {
   "cell_type": "code",
   "execution_count": 2,
   "id": "2e774c6b",
   "metadata": {
    "scrolled": true
   },
   "outputs": [
    {
     "name": "stdout",
     "output_type": "stream",
     "text": [
      "Loaded a dataset with sensor size 77 and 90 measurements.\n",
      "\n",
      "M := 10\n",
      "N = 77 * 90 = 9810\n",
      "D = M^2 = 100\n"
     ]
    }
   ],
   "source": [
    "Np = 77\n",
    "alphas = np.load(f\"data/alphas_{Np}.npy\")\n",
    "y = np.load(f\"data/y_{Np}.npy\")\n",
    "\n",
    "print(f\"Loaded a dataset with sensor size {Np} and {len(alphas)} measurements.\\n\")\n",
    "\n",
    "M = 10\n",
    "\n",
    "print(f\"M := {M}\")\n",
    "print(f\"N = {Np} * {len(alphas)} = {len(y)}\")\n",
    "print(f\"D = M^2 = {M ** 2}\")"
   ]
  },
  {
   "cell_type": "markdown",
   "id": "a1afa0e2",
   "metadata": {},
   "source": [
    "## 1) Constructing the matrix X\n",
    "\n",
    "Now we can start constructing the $X$ matrix, as described in the task. We need to use the `scipy.sparse` tools to do so, since the matrix will be large."
   ]
  },
  {
   "cell_type": "code",
   "execution_count": 3,
   "id": "7e8b397d",
   "metadata": {},
   "outputs": [],
   "source": [
    "def construct_X(M, alphas, Np = None) -> scipy.sparse.coo_matrix:\n",
    "    if Np is None:\n",
    "        Np = int(np.ceil(np.sqrt(2) * M))\n",
    "        \n",
    "    N = Np * len(alphas)\n",
    "    D = M ** 2\n",
    "    \n",
    "    # now we calculate the indexes and the data\n",
    "    # this is fine to do since the matrix is sparse\n",
    "    data = []\n",
    "    i_indexes = []\n",
    "    j_indexes = []\n",
    "    \n",
    "    # for each angle, calculate the contributions of the rows of the image to the sensor\n",
    "    c_point = M / 2\n",
    "    c_sensor = Np / 2\n",
    "\n",
    "    # we're projecting a point (vector) onto a vector\n",
    "    for i, alpha in enumerate(alphas):\n",
    "        v_alpha = np.cos(np.deg2rad(alpha)), np.sin(np.deg2rad(alpha))\n",
    "        \n",
    "        for row in range(M):\n",
    "            offset_row = -(row - c_point)\n",
    "            for column in range(M):\n",
    "                offset_column = (column - c_point)\n",
    "                \n",
    "                # since we only need the length (index of the sensor), a dot product is sufficient            \n",
    "                idx = np.dot((offset_column, offset_row), v_alpha) + c_sensor\n",
    "                \n",
    "                assert 0 <= idx < Np\n",
    "        \n",
    "                # distribute among the 2 affected sensors\n",
    "                s1_pos = int(idx)\n",
    "                s2_pos = int(idx + 1)\n",
    "                \n",
    "                assert s1_pos < idx < s2_pos\n",
    "                \n",
    "                s1_val = 1 - (idx - s1_pos)\n",
    "                s2_val = 1 - (s2_pos - idx)\n",
    "                \n",
    "                assert s1_val > 0\n",
    "                assert s2_val > 0\n",
    "                assert abs(s1_val + s2_val - 1) < 0.01\n",
    "                \n",
    "                for (d, x, y) in [\n",
    "                    (\n",
    "                        s1_val,\n",
    "                        column + row * M,\n",
    "                        s1_pos + i * Np,\n",
    "                    ),\n",
    "                    (\n",
    "                        s2_val,\n",
    "                        column + row * M,\n",
    "                        s2_pos + i * Np,\n",
    "                    ),\n",
    "                ]:\n",
    "                    data.append(d)\n",
    "                    i_indexes.append(y)\n",
    "                    j_indexes.append(x)\n",
    "\n",
    "    return scipy.sparse.coo_matrix((data, (i_indexes, j_indexes)), shape=(N, D), dtype=np.float32)\n",
    "\n",
    "X = construct_X(10, [1]).toarray()"
   ]
  },
  {
   "cell_type": "markdown",
   "id": "0445a6e9",
   "metadata": {},
   "source": [
    "Now we can check the implementation with the provided `X_example.npy` matrix to see if the construction works:"
   ]
  },
  {
   "cell_type": "code",
   "execution_count": 4,
   "id": "7692e97c",
   "metadata": {},
   "outputs": [
    {
     "data": {
      "text/plain": [
       "Text(0.5, 1.0, 'Example X')"
      ]
     },
     "execution_count": 4,
     "metadata": {},
     "output_type": "execute_result"
    },
    {
     "data": {
      "image/png": "[encoded data removed]",
      "text/plain": [
       "<Figure size 1000x500 with 2 Axes>"
      ]
     },
     "metadata": {},
     "output_type": "display_data"
    }
   ],
   "source": [
    "X = construct_X(10, [-33, 1, 42]).toarray()\n",
    "X_example = np.load(f\"data/X_example.npy\")\n",
    "\n",
    "fig, (ax1, ax2) = plt.subplots(ncols=2, figsize=(10, 5))\n",
    "ax1.matshow(X)\n",
    "ax1.set_title('Our X')\n",
    "\n",
    "ax2.matshow(X_example)\n",
    "ax2.set_title('Example X')"
   ]
  },
  {
   "cell_type": "markdown",
   "id": "ce638216",
   "metadata": {},
   "source": [
    "TODO: it seems that the matrices are similar but not quite exact. If we have time, look into this."
   ]
  },
  {
   "cell_type": "code",
   "execution_count": null,
   "id": "6121e8df",
   "metadata": {},
   "outputs": [],
   "source": []
  }
 ],
 "metadata": {
  "kernelspec": {
   "display_name": "Python 3 (ipykernel)",
   "language": "python",
   "name": "python3"
  },
  "language_info": {
   "codemirror_mode": {
    "name": "ipython",
    "version": 3
   },
   "file_extension": ".py",
   "mimetype": "text/x-python",
   "name": "python",
   "nbconvert_exporter": "python",
   "pygments_lexer": "ipython3",
   "version": "3.11.3"
  }
 },
 "nbformat": 4,
 "nbformat_minor": 5
}
